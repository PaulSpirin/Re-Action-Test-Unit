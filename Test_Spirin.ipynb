{
 "cells": [
  {
   "cell_type": "markdown",
   "id": "3b5328c7-4926-4032-a611-e47c072f1db9",
   "metadata": {},
   "source": [
    "# Тестовое задание Павла Спирина"
   ]
  },
  {
   "cell_type": "markdown",
   "id": "6933fd89-30b0-42cf-a3fe-f55bf166878e",
   "metadata": {},
   "source": [
    "## <a name=\"0.0\"></a>Содержание:\n",
    "* [Описание](#0.)\n",
    "* [Задание 1](#1.1.)\n",
    "    - [Часть 1 и 2](#1.1.1.)\n",
    "    - [Часть 3 - Средняя зарплата по каждой специальности](#1.1.2.)\n",
    "    - [Часть 3 - Самые встречаемые би-граммы по каждой специальности](#1.1.3.) \n",
    "* [Задание 2](#2.1.)\n",
    "* [Задание 3](#3.1.)"
   ]
  },
  {
   "cell_type": "markdown",
   "id": "82b09bcf-e664-4f97-8866-9cc50bb41e51",
   "metadata": {},
   "source": [
    "<a name=\"0.\"></a>\n",
    "## Описание\n",
    "<font size=\"2\">([к содержанию](#0.0))</font>"
   ]
  },
  {
   "cell_type": "markdown",
   "id": "f7322349-6ef1-4d2a-98f8-f704493c0db2",
   "metadata": {},
   "source": [
    "Задание должно быть выполнено в виртуальной среде Google Colab, должна быть предоставлена ссылка на рабочий ноутбук. Все ячейки должны запускаться последовательно без вылетов. Если какая-то ячейка не запускается задание далее проверяться не будет. В ноутбуке должны быть предоставлены комментарии по работе кода.  \n",
    "**Задание 1**\n",
    "\n",
    "1. Необходимо создать код по закачке вакансий с hh.ru через API. Итоговый датафрейм должен содержать основную информацию по вакансиям: название, уровень опыта, ключевые навыки, профессиональную роль (ОБЯЗОНОСТИ или ФУНКЦИОНАЛ), ссылку на вакансию, город, зарплату.  \n",
    "2. Закачать вакансии по специальностям: разработчик Java, SMM, интернет-маркетолог и веб-дизайнер.  \n",
    "3. Показать: среднюю ЗП по каждой из специальностей и 10 самых частых би-грамм для каждой из специальностей\n",
    "\n",
    "**Задание 2**  \n",
    "Возьмите два файла с вакансиями, прилагающиеся к тексту задания (internet_marketologs_part_1.xlsx и internet_marketologs_part_2.xlsx.) Создайте датафрейм с вакансиями, вошедшими в первую закачку, но не вошедшими во вторую.\n",
    "\n",
    "**Задание 3**  \n",
    "Постройте прототип рекомендательной системы на основе данных, полученных из закачек в задании 1. Система должна выдавать нужную вакансию при запросе. Например, мы даем ей ключевые навыки или текст резюме интернет маркетолога, на что система выдает нам 10 подходящих вакансий из закачанной в задании 1 базе.\n",
    "\n",
    "**Срок выполнения: 7 марта 2024**"
   ]
  },
  {
   "cell_type": "markdown",
   "id": "0d605dcc-0245-4ba3-8046-a1064c7204d1",
   "metadata": {},
   "source": [
    "<a name=\"1.1.\"></a>\n",
    "## Задание 1\n",
    "<font size=\"2\">([к содержанию](#0.0))</font>\r\n"
   ]
  },
  {
   "cell_type": "markdown",
   "id": "3c6db9fb-50a1-4458-ac85-77719f79621b",
   "metadata": {},
   "source": [
    "<a name=\"1.1.1.\"></a>\n",
    "### Часть 1 и 2\n",
    "<font size=\"2\">([к содержанию](#0.0))</font>"
   ]
  },
  {
   "cell_type": "markdown",
   "id": "d69cc140-4e7f-4917-9a2c-b85ddad71014",
   "metadata": {},
   "source": [
    "Библиотеки буду импортировать отдельно для каждого блока заданий"
   ]
  },
  {
   "cell_type": "code",
   "execution_count": 1,
   "id": "e80e4ed2-2897-4862-8671-5c3858b7c4d7",
   "metadata": {},
   "outputs": [],
   "source": [
    "import pandas as pd\n",
    "import requests"
   ]
  },
  {
   "cell_type": "markdown",
   "id": "55390501-29ca-4839-87e0-a7728339b2df",
   "metadata": {},
   "source": [
    "Определим три функции:\n",
    "- `get_vacancies(keyword, per_page=100, page=0)`: Получает список вакансий по ключевому слову через API и возвращает его в формате JSON.\n",
    "- `get_vacancy_details(vacancy_id)`: Получает дополнительные детали вакансии по ее ID через API и возвращает их в формате JSON.\n",
    "- `extract_info(vacancy, specialization)`: Извлекает основную информацию о вакансии из JSON-объекта и возвращает ее в виде словаря."
   ]
  },
  {
   "cell_type": "markdown",
   "id": "bdd7fb00-de80-43df-b4ce-2dc85050b0a2",
   "metadata": {},
   "source": [
    "`get_vacancies`: Эта функция отправляет запрос к API HeadHunter с использованием ключевого слова поиска и параметров количества вакансий на странице и номера страницы. Она возвращает список вакансий (в формате JSON), полученных в ответ на запрос."
   ]
  },
  {
   "cell_type": "code",
   "execution_count": 2,
   "id": "b38998e4-a96a-4c9a-90b4-4efb33497546",
   "metadata": {},
   "outputs": [],
   "source": [
    "def get_vacancies(keyword, per_page=100, page=0):\n",
    "    \"\"\"\n",
    "    - Получает вакансии по ключевому слову через API;\n",
    "    -Параметры:\n",
    "        - keyword: str\n",
    "            Ключевое слово для поиска вакансий.\n",
    "        - per_page: int, optional (default=100)\n",
    "            Количество вакансий, возвращаемых на одной странице.\n",
    "        - page: int, optional (default=0)\n",
    "            Номер страницы результатов, начиная с нуля.\n",
    "    - Возвращает список вакансий в формате JSON.\n",
    "    \n",
    "    \"\"\"\n",
    "    url = f'https://api.hh.ru/vacancies?text={keyword}&per_page={per_page}&page={page}'\n",
    "    response = requests.get(url)\n",
    "    data = response.json()\n",
    "    vacancies = data['items']\n",
    "    return vacancies"
   ]
  },
  {
   "cell_type": "markdown",
   "id": "dc233598-482d-4720-9d25-c787ceb9d44a",
   "metadata": {},
   "source": [
    "`get_vacancy_details`: Эта функция принимает идентификатор вакансии и отправляет запрос к API HeadHunter для получения дополнительных деталей о конкретной вакансии (например, зарплата, опыт работы, ключевые навыки и т. д.). Она возвращает информацию о вакансии в формате JSON."
   ]
  },
  {
   "cell_type": "code",
   "execution_count": 3,
   "id": "b87dcbc2-fe9f-407f-9b53-0183ec7cb1b6",
   "metadata": {},
   "outputs": [],
   "source": [
    "def get_vacancy_details(vacancy_id):\n",
    "    \"\"\"\n",
    "    - Получает дополнительные детали вакансии по ее ID через API;\n",
    "    - Параметры:\n",
    "        - vacancy_id: строка, идентификатор вакансии;\n",
    "    - Возвращает детали вакансии в формате JSON.\n",
    "\n",
    "    \"\"\"\n",
    "    url = f'https://api.hh.ru/vacancies/{vacancy_id}'\n",
    "    response = requests.get(url)\n",
    "    data = response.json()\n",
    "    return data"
   ]
  },
  {
   "cell_type": "markdown",
   "id": "651b08f3-2fc9-451d-ba4b-bd5d42d537a8",
   "metadata": {},
   "source": [
    "`extract_info`: Эта функция принимает информацию о вакансии в формате JSON, извлекает из нее основные данные, такие как название вакансии, зарплата, опыт работы, навыки, специализация, описание вакансии, город и ссылка на вакансию. Она формирует словарь с этими данными и возвращает его."
   ]
  },
  {
   "cell_type": "code",
   "execution_count": 4,
   "id": "511161f0-7232-4ce1-bd9f-6fc31e4c95c3",
   "metadata": {},
   "outputs": [],
   "source": [
    "def extract_info(vacancy, specialization):\n",
    "    \"\"\"\n",
    "    Извлекает основную информацию о вакансии из JSON-объекта.\n",
    "\n",
    "    Параметры:\n",
    "    - vacancy: JSON-объект, содержащий информацию о вакансии;\n",
    "    - specialization: строка, специализация, для которой извлекается информация о вакансии.\n",
    "\n",
    "    Возвращает словарь с основной информацией о вакансии.\n",
    "\n",
    "    \"\"\"\n",
    "    \n",
    "    # Извлекаем основную информацию о вакансии\n",
    "    title = vacancy.get('name')\n",
    "    \n",
    "    salary = vacancy.get('salary')\n",
    "    \n",
    "    experience = vacancy.get('experience', {}).get('name')\n",
    "    \n",
    "    skills = [skill['name'] for skill in vacancy.get('key_skills', [])]\n",
    "    \n",
    "    specialization_mapping = {\n",
    "        'разработчик Java': 'Java Developer',\n",
    "        'SMM': 'SMM',\n",
    "        'интернет-маркетолог': 'Internet Marketer',\n",
    "        'веб-дизайнер': 'Web Designer'\n",
    "    }\n",
    "    specialization = specialization_mapping.get(specialization)\n",
    "\n",
    "    prof_specialization = vacancy.get('specializations', [])\n",
    "    professional_role = prof_specialization[0].get('profarea_name') if prof_specialization else None\n",
    "    \n",
    "    duties = vacancy.get('description')\n",
    "    \n",
    "    city = vacancy.get('area', {}).get('name')\n",
    "    \n",
    "    link = vacancy.get('alternate_url')\n",
    "    \n",
    "    return {\n",
    "        'Title': title,\n",
    "        'Salary': salary,\n",
    "        'Experience': experience,\n",
    "        'Skills': skills,\n",
    "        'Professional Role': professional_role,\n",
    "        'Specialization': specialization,\n",
    "        'Duties': duties,\n",
    "        'City': city,\n",
    "        'Link': link\n",
    "    }"
   ]
  },
  {
   "cell_type": "markdown",
   "id": "b6daa925-7e61-4c5f-ac55-53f8a02fc636",
   "metadata": {},
   "source": [
    "Функция main является основной функцией. В ней мы последовательно вызываем остальные функций для выполнения задачи парсинга\n",
    "\n",
    "Действия функции main:\n",
    "\n",
    "- Определяет список специализаций specialties, для которых нужно получить вакансии.\n",
    "- Создает пустой список data для хранения данных о вакансиях.\n",
    "- Получает вакансии для каждой специализации с помощью функции get_vacancies и добавляет их в список all_vacancies.\n",
    "- Получает дополнительные детали о каждой вакансии с помощью функции get_vacancy_details и сохраняет их в список vacancy_details.\n",
    "- Извлекает нужную информацию о вакансиях из полученных данных с помощью функции extract_info и добавляет ее в список data.\n",
    "- Создает DataFrame из списка данных о вакансиях.\n",
    "- Возвращает этот DataFrame."
   ]
  },
  {
   "cell_type": "code",
   "execution_count": 5,
   "id": "f0d90b7e-b56f-4d85-933b-f104fe08dcb1",
   "metadata": {},
   "outputs": [],
   "source": [
    "# Создание пустого список для хранения данных\n",
    "data = []"
   ]
  },
  {
   "cell_type": "markdown",
   "id": "fb6d6d00-1d64-4931-a399-f4220da7c886",
   "metadata": {},
   "source": [
    "Определим основную функцию `main()`"
   ]
  },
  {
   "cell_type": "code",
   "execution_count": 6,
   "id": "9c470a35-29fe-45d7-b8f7-d74ca2e66fb1",
   "metadata": {},
   "outputs": [],
   "source": [
    "def main():\n",
    "    \"\"\"\n",
    "    - Основная функция программы.\n",
    "    - Собирает данные о вакансиях по заданным специализациям.\n",
    "    - Извлекает информацию о вакансиях и заполняет список данными.\n",
    "    - Создает DataFrame из списка данных.\n",
    "\n",
    "    \"\"\"\n",
    "    # Специализации для поиска вакансий\n",
    "    specialties = ['разработчик Java', 'SMM', 'интернет-маркетолог', 'веб-дизайнер']\n",
    "    \n",
    "    # Создаем пустой список для хранения данных\n",
    "    data = []\n",
    "\n",
    "    # Собираем данные о вакансиях\n",
    "    all_vacancies = []\n",
    "    for specialty in specialties:\n",
    "        vacancies = get_vacancies(specialty)\n",
    "        all_vacancies.extend(vacancies)\n",
    "    \n",
    "    # Извлекаем информацию о вакансиях\n",
    "    vacancy_details = []\n",
    "    for vacancy in all_vacancies:\n",
    "        details = get_vacancy_details(vacancy['id'])\n",
    "        vacancy_details.append(details)\n",
    "    \n",
    "    # Заполняем список данными о вакансиях\n",
    "    for i, vacancy in enumerate(vacancy_details):\n",
    "        prof_specialization = specialties[i % len(specialties)]  # Циклический выбор специализации\n",
    "        data.append(extract_info(vacancy, prof_specialization))\n",
    "        \n",
    "    \n",
    "    # Создаем DataFrame из списка данных\n",
    "    df = pd.DataFrame(data)\n",
    "    \n",
    "    return df"
   ]
  },
  {
   "cell_type": "code",
   "execution_count": 7,
   "id": "b0899b40-e628-4b00-ade7-a4aebcbf12d8",
   "metadata": {},
   "outputs": [],
   "source": [
    "# Запуск основной функции по парсингу данных\n",
    "df = main()"
   ]
  },
  {
   "cell_type": "code",
   "execution_count": 8,
   "id": "150a1347-5fec-4a20-a8c4-77da4dd1b687",
   "metadata": {},
   "outputs": [],
   "source": [
    "# df.to_csv('vacancies_dataset.csv', index=False) # Сохранение датасета если нужно"
   ]
  },
  {
   "cell_type": "markdown",
   "id": "667a1fcb-66e1-4a40-88f9-3f9dd19d7290",
   "metadata": {},
   "source": [
    "Признак `Professional Role` видимо не заполняется работодателем (так и не смог вытащить из него информацию).\n",
    "\n",
    "Так же я добавил признак `Specialization`, в который добавляется название специализации при парсинге."
   ]
  },
  {
   "cell_type": "code",
   "execution_count": 9,
   "id": "caf9cc9a-6ea5-440b-8023-e472af19c48b",
   "metadata": {},
   "outputs": [
    {
     "data": {
      "text/plain": [
       "Title                146\n",
       "Salary                89\n",
       "Experience           146\n",
       "Skills               400\n",
       "Professional Role      0\n",
       "Specialization       400\n",
       "Duties               146\n",
       "City                 146\n",
       "Link                 146\n",
       "dtype: int64"
      ]
     },
     "execution_count": 9,
     "metadata": {},
     "output_type": "execute_result"
    }
   ],
   "source": [
    "df.count()"
   ]
  },
  {
   "cell_type": "code",
   "execution_count": 10,
   "id": "5ff64c06-859b-4910-8c0a-587348c94b53",
   "metadata": {},
   "outputs": [
    {
     "data": {
      "text/html": [
       "<div>\n",
       "<style scoped>\n",
       "    .dataframe tbody tr th:only-of-type {\n",
       "        vertical-align: middle;\n",
       "    }\n",
       "\n",
       "    .dataframe tbody tr th {\n",
       "        vertical-align: top;\n",
       "    }\n",
       "\n",
       "    .dataframe thead th {\n",
       "        text-align: right;\n",
       "    }\n",
       "</style>\n",
       "<table border=\"1\" class=\"dataframe\">\n",
       "  <thead>\n",
       "    <tr style=\"text-align: right;\">\n",
       "      <th></th>\n",
       "      <th>Title</th>\n",
       "      <th>Salary</th>\n",
       "      <th>Experience</th>\n",
       "      <th>Skills</th>\n",
       "      <th>Professional Role</th>\n",
       "      <th>Specialization</th>\n",
       "      <th>Duties</th>\n",
       "      <th>City</th>\n",
       "      <th>Link</th>\n",
       "    </tr>\n",
       "  </thead>\n",
       "  <tbody>\n",
       "    <tr>\n",
       "      <th>0</th>\n",
       "      <td>Frontend Developer (React)</td>\n",
       "      <td>None</td>\n",
       "      <td>От 1 года до 3 лет</td>\n",
       "      <td>[JavaScript, React, TypeScript, MobX, Bootstra...</td>\n",
       "      <td>None</td>\n",
       "      <td>Java Developer</td>\n",
       "      <td>&lt;p&gt;Мы аккредитованная IT-компания, основанная ...</td>\n",
       "      <td>Екатеринбург</td>\n",
       "      <td>https://hh.ru/vacancy/94287939</td>\n",
       "    </tr>\n",
       "    <tr>\n",
       "      <th>1</th>\n",
       "      <td>HTML-верстальщик (HTML / CSS / JavaScript)</td>\n",
       "      <td>{'from': 70000, 'to': 100000, 'currency': 'RUR...</td>\n",
       "      <td>От 1 года до 3 лет</td>\n",
       "      <td>[ReactJS, HTML, CSS, HTML5, JavaScript, Git, C...</td>\n",
       "      <td>None</td>\n",
       "      <td>SMM</td>\n",
       "      <td>&lt;p&gt;Привет!&lt;/p&gt; &lt;p&gt;Мы - компания ISS.Digital. М...</td>\n",
       "      <td>Москва</td>\n",
       "      <td>https://hh.ru/vacancy/94318962</td>\n",
       "    </tr>\n",
       "    <tr>\n",
       "      <th>2</th>\n",
       "      <td>Java программист</td>\n",
       "      <td>None</td>\n",
       "      <td>От 1 года до 3 лет</td>\n",
       "      <td>[Java, PostgreSQL, Spring Boot, ORACLE]</td>\n",
       "      <td>None</td>\n",
       "      <td>Internet Marketer</td>\n",
       "      <td>&lt;p&gt;&lt;strong&gt;ПРОЕКТ:&lt;/strong&gt;&lt;/p&gt; &lt;p&gt;Ищем разраб...</td>\n",
       "      <td>Воронеж</td>\n",
       "      <td>https://hh.ru/vacancy/94268107</td>\n",
       "    </tr>\n",
       "    <tr>\n",
       "      <th>3</th>\n",
       "      <td>Ведущий программист Java (удалённо)</td>\n",
       "      <td>None</td>\n",
       "      <td>От 3 до 6 лет</td>\n",
       "      <td>[DevOps (Git (bitbucket), Jenkins, ansible, ma...</td>\n",
       "      <td>None</td>\n",
       "      <td>Web Designer</td>\n",
       "      <td>&lt;p&gt;&lt;em&gt;&lt;strong&gt;КОМПАНИЯ ООО ИЦ «АЙ-ТЕКО»&lt;/stro...</td>\n",
       "      <td>Москва</td>\n",
       "      <td>https://hh.ru/vacancy/92430462</td>\n",
       "    </tr>\n",
       "    <tr>\n",
       "      <th>4</th>\n",
       "      <td>Младший разработчик</td>\n",
       "      <td>{'from': 60000, 'to': None, 'currency': 'RUR',...</td>\n",
       "      <td>Нет опыта</td>\n",
       "      <td>[]</td>\n",
       "      <td>None</td>\n",
       "      <td>Java Developer</td>\n",
       "      <td>&lt;p&gt;Вакансия для начинающих разработчиков с неб...</td>\n",
       "      <td>Санкт-Петербург</td>\n",
       "      <td>https://hh.ru/vacancy/94254962</td>\n",
       "    </tr>\n",
       "  </tbody>\n",
       "</table>\n",
       "</div>"
      ],
      "text/plain": [
       "                                        Title  \\\n",
       "0                  Frontend Developer (React)   \n",
       "1  HTML-верстальщик (HTML / CSS / JavaScript)   \n",
       "2                            Java программист   \n",
       "3         Ведущий программист Java (удалённо)   \n",
       "4                         Младший разработчик   \n",
       "\n",
       "                                              Salary          Experience  \\\n",
       "0                                               None  От 1 года до 3 лет   \n",
       "1  {'from': 70000, 'to': 100000, 'currency': 'RUR...  От 1 года до 3 лет   \n",
       "2                                               None  От 1 года до 3 лет   \n",
       "3                                               None       От 3 до 6 лет   \n",
       "4  {'from': 60000, 'to': None, 'currency': 'RUR',...           Нет опыта   \n",
       "\n",
       "                                              Skills Professional Role  \\\n",
       "0  [JavaScript, React, TypeScript, MobX, Bootstra...              None   \n",
       "1  [ReactJS, HTML, CSS, HTML5, JavaScript, Git, C...              None   \n",
       "2            [Java, PostgreSQL, Spring Boot, ORACLE]              None   \n",
       "3  [DevOps (Git (bitbucket), Jenkins, ansible, ma...              None   \n",
       "4                                                 []              None   \n",
       "\n",
       "      Specialization                                             Duties  \\\n",
       "0     Java Developer  <p>Мы аккредитованная IT-компания, основанная ...   \n",
       "1                SMM  <p>Привет!</p> <p>Мы - компания ISS.Digital. М...   \n",
       "2  Internet Marketer  <p><strong>ПРОЕКТ:</strong></p> <p>Ищем разраб...   \n",
       "3       Web Designer  <p><em><strong>КОМПАНИЯ ООО ИЦ «АЙ-ТЕКО»</stro...   \n",
       "4     Java Developer  <p>Вакансия для начинающих разработчиков с неб...   \n",
       "\n",
       "              City                            Link  \n",
       "0     Екатеринбург  https://hh.ru/vacancy/94287939  \n",
       "1           Москва  https://hh.ru/vacancy/94318962  \n",
       "2          Воронеж  https://hh.ru/vacancy/94268107  \n",
       "3           Москва  https://hh.ru/vacancy/92430462  \n",
       "4  Санкт-Петербург  https://hh.ru/vacancy/94254962  "
      ]
     },
     "execution_count": 10,
     "metadata": {},
     "output_type": "execute_result"
    }
   ],
   "source": [
    "df.head()"
   ]
  },
  {
   "cell_type": "markdown",
   "id": "85f4019f-9a6b-4f29-a502-008785b4429b",
   "metadata": {},
   "source": [
    "Так как признак `Professional Role` всегда None, я позволил себе добавить признак `Duties`, в котором мы видим как и обязоности (по сути профессиональная роль), так описание компании и требования к кандидату. Это сделал для того, чтобы в дальнейшем была хоть какая-то информация для выявления 10 самых частых би-грамм для каждой из специальностей.\n",
    "\n",
    "Так же добавил признак `Specialization` для того, чтобы в дальнешем построить сводную таблицу по средним зарплатам"
   ]
  },
  {
   "cell_type": "code",
   "execution_count": 11,
   "id": "e5bb27f3-2075-47ac-8e41-a806c1716551",
   "metadata": {},
   "outputs": [
    {
     "data": {
      "text/plain": [
       "'<p>Мы аккредитованная IT-компания, основанная в 2015 году<strong> </strong>как одно из R&amp;D-подразделений группы компаний <strong>S&amp;T Iskratel</strong> (дочерняя структура группы <strong>Kontron AG</strong>, Австрия). Основные направления нашей деятельности - это продукты и решения по цифровизации и автоматизации производственных и управленческих процессов в таких отраслях как транспорт, энергетика, общественная безопасность и телекоммуникации.</p> <p>Одним из новых направлений работы для нас является проект по разработке ПО ядра современных сетей связи на базе технологий 4G/5G. Данный проект предполагает реализацию решения, обеспечивающего необходимые функции мобильных сетей четвертого и пятого поколения в соответствии со спецификациями комитета по стандартизации технологий мобильной связи 3GPP. Большой объем работы по этим проектам предполагает расширение команды, поэтому мы <strong>ищем опытного Frontend разработчика (React)</strong>.</p> <p><strong>Наш стек: </strong>Typescript 4+, React 17+, Bootstrap 4, Redux/MobX, PostgreSQL, Redis, Docker, Jenkins, Linux (Ubuntu 20.04 LTS), Java/Spring (backend), Angular/TypeScript на ряде других проектов</p> <p><strong>Для нас важно:</strong></p> <ul> <li>уверенное знание JavaScript, React и его экосистемы, TypeScript;</li> <li>умение работать с Bootstrap, MaterialUI;</li> <li>английский на уровне чтения технической документации и выше.</li> </ul> <p><strong>Будет преимуществом:</strong></p> <ul> <li>опыт работы с Angular;</li> <li>знание Docker, Websocket, Unit testing;</li> <li>опыт архитектурного проектирования прикладных систем и постановки задач другим разработчикам в рамках решения одной большой задачи.</li> </ul> <p><strong>Мы предлагаем:</strong></p> <ul> <li>официальное трудоустройство (по ТК РФ);</li> <li>гибридный формат работы в Екатеринбурге (3 дня в офисе, 2 дня удаленно);</li> <li>ДМС (после испытательного срока);</li> <li>инвестиции в профессиональное обучение сотрудников;</li> <li>оплачиваемое участие в профессиональных конференциях, в том числе за границей.</li> </ul>'"
      ]
     },
     "execution_count": 11,
     "metadata": {},
     "output_type": "execute_result"
    }
   ],
   "source": [
    "df.Duties[0]"
   ]
  },
  {
   "cell_type": "code",
   "execution_count": 12,
   "id": "189a6c7d-0983-4a1b-a8f9-fd6bcd85ebd2",
   "metadata": {},
   "outputs": [],
   "source": [
    "# Удаление вакансий с отсутствующей ссылкой\n",
    "df = df.dropna(subset=['Link'])"
   ]
  },
  {
   "cell_type": "code",
   "execution_count": 13,
   "id": "3b496e27-a64a-4320-b446-2901f1b7a649",
   "metadata": {},
   "outputs": [
    {
     "data": {
      "text/plain": [
       "Title                  0\n",
       "Salary                57\n",
       "Experience             0\n",
       "Skills                 0\n",
       "Professional Role    146\n",
       "Specialization         0\n",
       "Duties                 0\n",
       "City                   0\n",
       "Link                   0\n",
       "dtype: int64"
      ]
     },
     "execution_count": 13,
     "metadata": {},
     "output_type": "execute_result"
    }
   ],
   "source": [
    "df.isnull().sum()"
   ]
  },
  {
   "cell_type": "markdown",
   "id": "8bcdce6b-21ae-4a45-81cb-80ba0c9c5b76",
   "metadata": {},
   "source": [
    "Датасет df готов к дальнейшей работе с данными"
   ]
  },
  {
   "cell_type": "markdown",
   "id": "ad8b9540-5fb2-40ef-966c-b062db2dc3b1",
   "metadata": {},
   "source": [
    "<a name=\"1.1.2.\"></a>\n",
    "### Часть 3 - Средняя зарплата по каждой специальности\n",
    "<font size=\"2\">([к содержанию](#0.0))</font>"
   ]
  },
  {
   "cell_type": "code",
   "execution_count": 14,
   "id": "1c0d706c-6d4d-4249-ba38-8340f63d8d6b",
   "metadata": {},
   "outputs": [],
   "source": [
    "import pandas as pd"
   ]
  },
  {
   "cell_type": "code",
   "execution_count": 15,
   "id": "606dc283-19dc-4141-8d06-48ad54a33689",
   "metadata": {},
   "outputs": [],
   "source": [
    "# Создание копии DataFrame\n",
    "analytical_df = df.copy()"
   ]
  },
  {
   "cell_type": "code",
   "execution_count": 16,
   "id": "253a12a5-84e4-410e-b105-7ce380cc7c0f",
   "metadata": {},
   "outputs": [
    {
     "data": {
      "text/plain": [
       "0                                                   None\n",
       "1      {'from': 70000, 'to': 100000, 'currency': 'RUR...\n",
       "2                                                   None\n",
       "3                                                   None\n",
       "4      {'from': 60000, 'to': None, 'currency': 'RUR',...\n",
       "                             ...                        \n",
       "395    {'from': 40000, 'to': None, 'currency': 'RUR',...\n",
       "396                                                 None\n",
       "397    {'from': None, 'to': 40000, 'currency': 'RUR',...\n",
       "398    {'from': 100000, 'to': 150000, 'currency': 'KZ...\n",
       "399    {'from': 75000, 'to': None, 'currency': 'RUR',...\n",
       "Name: Salary, Length: 146, dtype: object"
      ]
     },
     "execution_count": 16,
     "metadata": {},
     "output_type": "execute_result"
    }
   ],
   "source": [
    "analytical_df.Salary"
   ]
  },
  {
   "cell_type": "code",
   "execution_count": 17,
   "id": "d357e9ab-7307-4d4b-9ab5-5c94ad2dc787",
   "metadata": {},
   "outputs": [
    {
     "data": {
      "text/plain": [
       "array(['Екатеринбург', 'Москва', 'Воронеж', 'Санкт-Петербург', 'Алматы',\n",
       "       'Минск', 'Красноярск', 'Лида', 'Пермь', 'Ташкент', 'Таганрог',\n",
       "       'Казань', 'Тольятти', 'Нижний Новгород', 'Якутск', 'Барнаул',\n",
       "       'Новосибирск', 'Брест', 'Астана', 'Кемерово', 'Сербия', 'Заславль',\n",
       "       'Волгоград', 'Краснодар', 'Тбилиси', 'Челябинск', 'Петрозаводск',\n",
       "       'Омск'], dtype=object)"
      ]
     },
     "execution_count": 17,
     "metadata": {},
     "output_type": "execute_result"
    }
   ],
   "source": [
    "analytical_df.City.unique()"
   ]
  },
  {
   "cell_type": "markdown",
   "id": "97145a7f-a845-4067-ab78-9b31f368b80d",
   "metadata": {},
   "source": [
    "Созадим две функции:  \n",
    "\n",
    "`convert_to_rub()` - Функция по конвертации валют в рубли по следующим курсам:\n",
    "- 1 RUR = 1₽\n",
    "- 1 USD = 90₽\n",
    "- 1 EUR = 100₽\n",
    "- 1 KZT = 0,20₽\n",
    "- 1 BYR = 28₽\n",
    "- 1 KGS = 1₽\n",
    "- 1 UZS = 0,0073₽\n",
    "\n",
    "`extract_salary_info()` - Функция выделяет новые признаки `From salary` и `To salary` из основного признака `Salary`. Эти признаки будут отражать нижний и верхний предел зарплаты. А так же конвертирует валюту в рубли"
   ]
  },
  {
   "cell_type": "markdown",
   "id": "03f21c51-fe1d-434a-9e0f-c2b8530cafed",
   "metadata": {},
   "source": [
    "Так как валют много, то буду вносить значения курсов обмена по умолчанию внутри самой функции, а не в аргументе функции."
   ]
  },
  {
   "cell_type": "code",
   "execution_count": 18,
   "id": "b72adaef-d63f-4777-aa57-2385341d00f8",
   "metadata": {},
   "outputs": [],
   "source": [
    "def convert_to_rub(amount, currency):\n",
    "    \"\"\"\n",
    "    Конвертирует сумму зарплаты в валюте в рубли.\n",
    "\n",
    "    Параметры:\n",
    "        - amount (float): Сумма зарплаты;\n",
    "        - currency (str): Валюта зарплаты ('USD', 'EUR', 'KZT', 'BYR', 'KGS').\n",
    "    \n",
    "    Возвращает:\n",
    "        float: Сумма зарплаты, сконвертированная в рубли, или None, если сумма равна None.\n",
    "        \n",
    "    \"\"\"\n",
    "    if amount is None:\n",
    "        return None\n",
    "    \n",
    "    # Установка курса обмена по умолчанию для неизвестных валют\n",
    "    exchange_rate = {\n",
    "        'RUR': 1,\n",
    "        'USD': 90,\n",
    "        'EUR': 100,\n",
    "        'KZT': 0.20,\n",
    "        'BYR': 28,\n",
    "        'KGS': 1,\n",
    "        'UZS': 0.0073\n",
    "    }\n",
    "\n",
    "\n",
    "    # Получаем курс обмена для заданной валюты, если валюта не найдена возвращаем None\n",
    "    rate = exchange_rate.get(currency)\n",
    "    if rate is None:\n",
    "        return None\n",
    "    \n",
    "    # Возвращаем сконвертированную сумму\n",
    "    return amount * rate"
   ]
  },
  {
   "cell_type": "code",
   "execution_count": 19,
   "id": "50ae7101-9663-45a0-ac90-e77728436330",
   "metadata": {},
   "outputs": [],
   "source": [
    "def extract_salary_info(salary_info):\n",
    "    \"\"\"\n",
    "    Извлекает информацию о зарплате из словаря с данными о зарплате.\n",
    "\n",
    "    Параметры:\n",
    "        - salary_info (dict): Словарь с данными о зарплате.\n",
    "\n",
    "    Возвращает:\n",
    "        tuple: Кортеж из двух элементов:\n",
    "            - from_salary (float): Сумма начальной зарплаты, сконвертированная в рубли, или None, если отсутствует.\n",
    "            - to_salary (float): Сумма конечной зарплаты, сконвертированная в рубли, или None, если отсутствует.\n",
    "    \"\"\"\n",
    "    if salary_info:\n",
    "        from_salary = salary_info.get('from')\n",
    "        to_salary = salary_info.get('to')\n",
    "        currency = salary_info.get('currency')\n",
    "        from_salary_rub = convert_to_rub(from_salary, currency)\n",
    "        to_salary_rub = convert_to_rub(to_salary, currency)\n",
    "        return from_salary_rub, to_salary_rub\n",
    "    else:\n",
    "        return None, None"
   ]
  },
  {
   "cell_type": "code",
   "execution_count": 20,
   "id": "0ae61f53-00df-4bb3-8722-f7151ba3edf9",
   "metadata": {},
   "outputs": [],
   "source": [
    "# Применяем функцию extract_salary_info к столбцу Salary для создания двух новых столбцов\n",
    "analytical_df[['From Salary', 'To Salary']] = analytical_df['Salary'].apply(lambda x: pd.Series(extract_salary_info(x)))"
   ]
  },
  {
   "cell_type": "code",
   "execution_count": 21,
   "id": "2da89dee-478d-47d6-a506-18a03c6ac426",
   "metadata": {},
   "outputs": [
    {
     "data": {
      "text/html": [
       "<div>\n",
       "<style scoped>\n",
       "    .dataframe tbody tr th:only-of-type {\n",
       "        vertical-align: middle;\n",
       "    }\n",
       "\n",
       "    .dataframe tbody tr th {\n",
       "        vertical-align: top;\n",
       "    }\n",
       "\n",
       "    .dataframe thead th {\n",
       "        text-align: right;\n",
       "    }\n",
       "</style>\n",
       "<table border=\"1\" class=\"dataframe\">\n",
       "  <thead>\n",
       "    <tr style=\"text-align: right;\">\n",
       "      <th></th>\n",
       "      <th>Salary</th>\n",
       "      <th>From Salary</th>\n",
       "      <th>To Salary</th>\n",
       "    </tr>\n",
       "  </thead>\n",
       "  <tbody>\n",
       "    <tr>\n",
       "      <th>0</th>\n",
       "      <td>None</td>\n",
       "      <td>NaN</td>\n",
       "      <td>NaN</td>\n",
       "    </tr>\n",
       "    <tr>\n",
       "      <th>1</th>\n",
       "      <td>{'from': 70000, 'to': 100000, 'currency': 'RUR...</td>\n",
       "      <td>70000.0</td>\n",
       "      <td>100000.0</td>\n",
       "    </tr>\n",
       "    <tr>\n",
       "      <th>2</th>\n",
       "      <td>None</td>\n",
       "      <td>NaN</td>\n",
       "      <td>NaN</td>\n",
       "    </tr>\n",
       "    <tr>\n",
       "      <th>3</th>\n",
       "      <td>None</td>\n",
       "      <td>NaN</td>\n",
       "      <td>NaN</td>\n",
       "    </tr>\n",
       "    <tr>\n",
       "      <th>4</th>\n",
       "      <td>{'from': 60000, 'to': None, 'currency': 'RUR',...</td>\n",
       "      <td>60000.0</td>\n",
       "      <td>NaN</td>\n",
       "    </tr>\n",
       "    <tr>\n",
       "      <th>5</th>\n",
       "      <td>{'from': 120000, 'to': 120000, 'currency': 'RU...</td>\n",
       "      <td>120000.0</td>\n",
       "      <td>120000.0</td>\n",
       "    </tr>\n",
       "  </tbody>\n",
       "</table>\n",
       "</div>"
      ],
      "text/plain": [
       "                                              Salary  From Salary  To Salary\n",
       "0                                               None          NaN        NaN\n",
       "1  {'from': 70000, 'to': 100000, 'currency': 'RUR...      70000.0   100000.0\n",
       "2                                               None          NaN        NaN\n",
       "3                                               None          NaN        NaN\n",
       "4  {'from': 60000, 'to': None, 'currency': 'RUR',...      60000.0        NaN\n",
       "5  {'from': 120000, 'to': 120000, 'currency': 'RU...     120000.0   120000.0"
      ]
     },
     "execution_count": 21,
     "metadata": {},
     "output_type": "execute_result"
    }
   ],
   "source": [
    "analytical_df.loc[:5, ['Salary', 'From Salary', 'To Salary']]"
   ]
  },
  {
   "cell_type": "markdown",
   "id": "9360c8d2-8b38-4007-87dc-7c61ed65856d",
   "metadata": {},
   "source": [
    "Далее расчитаем среднюю зарплату для каждой вакансии по условию:  \n",
    "- Если в вакансии есть только один признак `From Salary` или  `To Salary`, то он будет отражать среднюю зарплату;\n",
    "- Если признаки `From Salary` и  `To Salary` равен числу, то посчитаем среднюю зарплату\n",
    "\n",
    "Первое условие позволит не потерять информацию из тех вакансий, где заполнено только одно значение. \n",
    "\n",
    "Добавим среднюю зарплату в новые признак `Mean Salary`"
   ]
  },
  {
   "cell_type": "code",
   "execution_count": 22,
   "id": "8ad6e4c1-f2cd-4a0d-aa9b-dda67a189638",
   "metadata": {},
   "outputs": [],
   "source": [
    "def calculate_average_salary(row):\n",
    "    \"\"\"\n",
    "    Рассчитывает среднюю зарплату для каждой вакансии на основе признаков 'From Salary' и 'To Salary'.\n",
    "\n",
    "    Параметры:\n",
    "        - row (pd.Series): Строка (набор признаков) из DataFrame.\n",
    "\n",
    "    Возвращает:\n",
    "        float: Средняя зарплата для вакансии.\n",
    "    \"\"\"\n",
    "    from_salary = row['From Salary']\n",
    "    to_salary = row['To Salary']\n",
    "    \n",
    "    # Если один из признаков отсутствует, средняя зарплата будет равна существующему значению\n",
    "    if pd.notnull(from_salary) and pd.isnull(to_salary):\n",
    "        return from_salary\n",
    "    elif pd.isnull(from_salary) and pd.notnull(to_salary):\n",
    "        return to_salary\n",
    "    \n",
    "    # Если оба признака существуют, рассчитываем среднюю зарплату\n",
    "    elif pd.notnull(from_salary) and pd.notnull(to_salary):\n",
    "        return (from_salary + to_salary) / 2\n",
    "    \n",
    "    # Если оба признака отсутствуют, возвращаем None\n",
    "    else:\n",
    "        return None"
   ]
  },
  {
   "cell_type": "code",
   "execution_count": 23,
   "id": "c947a254-b9e8-4f05-b3a9-317347314660",
   "metadata": {},
   "outputs": [],
   "source": [
    "# Создаем новый столбец 'Mean Salary' и применяем функцию calculate_average_salary к каждой строке DataFrame\n",
    "analytical_df['Mean Salary'] = analytical_df.apply(calculate_average_salary, axis=1)"
   ]
  },
  {
   "cell_type": "code",
   "execution_count": 24,
   "id": "8fcd04b5-b1c0-4b73-bed4-6b3b7a5d6e84",
   "metadata": {},
   "outputs": [
    {
     "data": {
      "text/html": [
       "<div>\n",
       "<style scoped>\n",
       "    .dataframe tbody tr th:only-of-type {\n",
       "        vertical-align: middle;\n",
       "    }\n",
       "\n",
       "    .dataframe tbody tr th {\n",
       "        vertical-align: top;\n",
       "    }\n",
       "\n",
       "    .dataframe thead th {\n",
       "        text-align: right;\n",
       "    }\n",
       "</style>\n",
       "<table border=\"1\" class=\"dataframe\">\n",
       "  <thead>\n",
       "    <tr style=\"text-align: right;\">\n",
       "      <th></th>\n",
       "      <th>Salary</th>\n",
       "      <th>From Salary</th>\n",
       "      <th>To Salary</th>\n",
       "      <th>Mean Salary</th>\n",
       "    </tr>\n",
       "  </thead>\n",
       "  <tbody>\n",
       "    <tr>\n",
       "      <th>0</th>\n",
       "      <td>None</td>\n",
       "      <td>NaN</td>\n",
       "      <td>NaN</td>\n",
       "      <td>NaN</td>\n",
       "    </tr>\n",
       "    <tr>\n",
       "      <th>1</th>\n",
       "      <td>{'from': 70000, 'to': 100000, 'currency': 'RUR...</td>\n",
       "      <td>70000.0</td>\n",
       "      <td>100000.0</td>\n",
       "      <td>85000.0</td>\n",
       "    </tr>\n",
       "    <tr>\n",
       "      <th>2</th>\n",
       "      <td>None</td>\n",
       "      <td>NaN</td>\n",
       "      <td>NaN</td>\n",
       "      <td>NaN</td>\n",
       "    </tr>\n",
       "    <tr>\n",
       "      <th>3</th>\n",
       "      <td>None</td>\n",
       "      <td>NaN</td>\n",
       "      <td>NaN</td>\n",
       "      <td>NaN</td>\n",
       "    </tr>\n",
       "    <tr>\n",
       "      <th>4</th>\n",
       "      <td>{'from': 60000, 'to': None, 'currency': 'RUR',...</td>\n",
       "      <td>60000.0</td>\n",
       "      <td>NaN</td>\n",
       "      <td>60000.0</td>\n",
       "    </tr>\n",
       "    <tr>\n",
       "      <th>5</th>\n",
       "      <td>{'from': 120000, 'to': 120000, 'currency': 'RU...</td>\n",
       "      <td>120000.0</td>\n",
       "      <td>120000.0</td>\n",
       "      <td>120000.0</td>\n",
       "    </tr>\n",
       "    <tr>\n",
       "      <th>6</th>\n",
       "      <td>{'from': None, 'to': 500000, 'currency': 'KZT'...</td>\n",
       "      <td>NaN</td>\n",
       "      <td>100000.0</td>\n",
       "      <td>100000.0</td>\n",
       "    </tr>\n",
       "    <tr>\n",
       "      <th>7</th>\n",
       "      <td>{'from': 80000, 'to': None, 'currency': 'RUR',...</td>\n",
       "      <td>80000.0</td>\n",
       "      <td>NaN</td>\n",
       "      <td>80000.0</td>\n",
       "    </tr>\n",
       "    <tr>\n",
       "      <th>8</th>\n",
       "      <td>None</td>\n",
       "      <td>NaN</td>\n",
       "      <td>NaN</td>\n",
       "      <td>NaN</td>\n",
       "    </tr>\n",
       "    <tr>\n",
       "      <th>9</th>\n",
       "      <td>None</td>\n",
       "      <td>NaN</td>\n",
       "      <td>NaN</td>\n",
       "      <td>NaN</td>\n",
       "    </tr>\n",
       "  </tbody>\n",
       "</table>\n",
       "</div>"
      ],
      "text/plain": [
       "                                              Salary  From Salary  To Salary  \\\n",
       "0                                               None          NaN        NaN   \n",
       "1  {'from': 70000, 'to': 100000, 'currency': 'RUR...      70000.0   100000.0   \n",
       "2                                               None          NaN        NaN   \n",
       "3                                               None          NaN        NaN   \n",
       "4  {'from': 60000, 'to': None, 'currency': 'RUR',...      60000.0        NaN   \n",
       "5  {'from': 120000, 'to': 120000, 'currency': 'RU...     120000.0   120000.0   \n",
       "6  {'from': None, 'to': 500000, 'currency': 'KZT'...          NaN   100000.0   \n",
       "7  {'from': 80000, 'to': None, 'currency': 'RUR',...      80000.0        NaN   \n",
       "8                                               None          NaN        NaN   \n",
       "9                                               None          NaN        NaN   \n",
       "\n",
       "   Mean Salary  \n",
       "0          NaN  \n",
       "1      85000.0  \n",
       "2          NaN  \n",
       "3          NaN  \n",
       "4      60000.0  \n",
       "5     120000.0  \n",
       "6     100000.0  \n",
       "7      80000.0  \n",
       "8          NaN  \n",
       "9          NaN  "
      ]
     },
     "execution_count": 24,
     "metadata": {},
     "output_type": "execute_result"
    }
   ],
   "source": [
    "# Выведем первые 10 вакансий с нужными признаками\n",
    "analytical_df.loc[:, ['Salary', 'From Salary', 'To Salary', 'Mean Salary']].head(10)"
   ]
  },
  {
   "cell_type": "markdown",
   "id": "c1496987-5e97-4f84-94b0-8bc08bb64894",
   "metadata": {},
   "source": [
    "Посчитаем среднюю зарплату для каждой специальности"
   ]
  },
  {
   "cell_type": "code",
   "execution_count": 25,
   "id": "6681f522-5afe-4352-a16d-05578d4257d6",
   "metadata": {},
   "outputs": [],
   "source": [
    "# Создание сводной таблицы\n",
    "salary_pivot_table = analytical_df.pivot_table(index='Specialization', values='Mean Salary', aggfunc='mean').round(2)"
   ]
  },
  {
   "cell_type": "code",
   "execution_count": 26,
   "id": "de81c50b-1232-4e55-8b76-bf9206a5e994",
   "metadata": {},
   "outputs": [
    {
     "data": {
      "text/html": [
       "<div>\n",
       "<style scoped>\n",
       "    .dataframe tbody tr th:only-of-type {\n",
       "        vertical-align: middle;\n",
       "    }\n",
       "\n",
       "    .dataframe tbody tr th {\n",
       "        vertical-align: top;\n",
       "    }\n",
       "\n",
       "    .dataframe thead th {\n",
       "        text-align: right;\n",
       "    }\n",
       "</style>\n",
       "<table border=\"1\" class=\"dataframe\">\n",
       "  <thead>\n",
       "    <tr style=\"text-align: right;\">\n",
       "      <th></th>\n",
       "      <th>Mean Salary</th>\n",
       "    </tr>\n",
       "    <tr>\n",
       "      <th>Specialization</th>\n",
       "      <th></th>\n",
       "    </tr>\n",
       "  </thead>\n",
       "  <tbody>\n",
       "    <tr>\n",
       "      <th>SMM</th>\n",
       "      <td>127658.33</td>\n",
       "    </tr>\n",
       "    <tr>\n",
       "      <th>Java Developer</th>\n",
       "      <td>118425.00</td>\n",
       "    </tr>\n",
       "    <tr>\n",
       "      <th>Web Designer</th>\n",
       "      <td>95340.91</td>\n",
       "    </tr>\n",
       "    <tr>\n",
       "      <th>Internet Marketer</th>\n",
       "      <td>92913.04</td>\n",
       "    </tr>\n",
       "  </tbody>\n",
       "</table>\n",
       "</div>"
      ],
      "text/plain": [
       "                   Mean Salary\n",
       "Specialization                \n",
       "SMM                  127658.33\n",
       "Java Developer       118425.00\n",
       "Web Designer          95340.91\n",
       "Internet Marketer     92913.04"
      ]
     },
     "execution_count": 26,
     "metadata": {},
     "output_type": "execute_result"
    }
   ],
   "source": [
    "salary_pivot_table.sort_values(by='Mean Salary', ascending=False)"
   ]
  },
  {
   "cell_type": "markdown",
   "id": "a47b7ff4-a126-4e15-9770-9a1161169920",
   "metadata": {},
   "source": [
    "Средняя зарплата по специальностям найдена. В анализе я не заполнял пропуски зарплат. Хотя это можно было сделать с помощью заполнения средней зарплатой в группе (например, сгрупировать по специальности и городу, найти среднюю зарплату для этой группы и заполнить недостающие данные)."
   ]
  },
  {
   "cell_type": "markdown",
   "id": "97bb6c87-e811-4bb9-9726-52b874f94edb",
   "metadata": {},
   "source": [
    "P.s. после итераций в разные дни количество вакансий в дате может менятся и появлятся новые валюты. Если такие появляются то код их не будет ичитывать и просто запишет в среднюю None. Ниже код для выявления аномалий (в первой строке поменять Specialization и вписать нужную сумму для проверки)"
   ]
  },
  {
   "cell_type": "code",
   "execution_count": 27,
   "id": "2f1fa83a-3ceb-428d-aca8-420152e3f878",
   "metadata": {},
   "outputs": [],
   "source": [
    "# filtered_df = analytical_df[(analytical_df['Specialization'] == 'Internet Marketer') & (analytical_df['Mean Salary'] >= 112000)]\n",
    "# result_df = filtered_df.loc[:, ['Title', 'City', 'Salary', 'From Salary', 'To Salary', 'Mean Salary']]\n",
    "# result_df.sort_values(by='Mean Salary', ascending=False, inplace=True)\n",
    "# result_df.head(10)"
   ]
  },
  {
   "cell_type": "markdown",
   "id": "dc10f6d0-b79b-450e-89d8-a84a2de3837e",
   "metadata": {},
   "source": [
    "<a name=\"1.1.3.\"></a>\n",
    "### Часть 3 - Самые встречаемые би-граммы по каждой специальности\n",
    "<font size=\"2\">([к содержанию](#0.0))</font>"
   ]
  },
  {
   "cell_type": "code",
   "execution_count": 28,
   "id": "3a2a9b68-fc61-4955-8367-0271bc0156fe",
   "metadata": {},
   "outputs": [
    {
     "name": "stderr",
     "output_type": "stream",
     "text": [
      "[nltk_data] Downloading package punkt to\n",
      "[nltk_data]     /Users/pavelspirin/nltk_data...\n",
      "[nltk_data]   Package punkt is already up-to-date!\n"
     ]
    },
    {
     "data": {
      "text/plain": [
       "True"
      ]
     },
     "execution_count": 28,
     "metadata": {},
     "output_type": "execute_result"
    }
   ],
   "source": [
    "import nltk\n",
    "from nltk.tokenize import word_tokenize\n",
    "from nltk.util import ngrams\n",
    "from collections import Counter\n",
    "import re\n",
    "\n",
    "\n",
    "# Загрузка ресурсов NLTK\n",
    "nltk.download('punkt')"
   ]
  },
  {
   "cell_type": "code",
   "execution_count": 29,
   "id": "9c6b1389-87cd-43fc-9d0e-90d0c1242595",
   "metadata": {},
   "outputs": [],
   "source": [
    "# Создание копии DataFrame\n",
    "bigram_df = df.copy()"
   ]
  },
  {
   "cell_type": "markdown",
   "id": "46d42c17-8ace-4b58-9291-34a70a029de6",
   "metadata": {},
   "source": [
    "Напишем функцию для предобработки текста. Она будет осуществлять следующие операции:\n",
    "- Удаление HTML тегов\n",
    "- Приведение текста к нижнему регистру\n",
    "- Удаление ненужных символов и пунктуации\n",
    "- Токенизация текста"
   ]
  },
  {
   "cell_type": "code",
   "execution_count": 30,
   "id": "25b27dfb-03c3-446d-8241-e68446e9c053",
   "metadata": {},
   "outputs": [],
   "source": [
    "def preprocess_text(text):\n",
    "    \"\"\"\n",
    "    Функция для предобработки текста.\n",
    "\n",
    "    Параметры:\n",
    "        - text (str): Входной текст для предобработки.\n",
    "\n",
    "    Возвращает:\n",
    "        list: Список токенов после предобработки текста.\n",
    "        \n",
    "    \"\"\"\n",
    "    text = re.sub(r'<[^>]+>', '', text)  # Удаление HTML тегов\n",
    "    text = text.lower()  # Приведение к нижнему регистру\n",
    "    text = re.sub(r'[^a-zA-Zа-яА-ЯёЁ\\s]', '', text)  # Удаление ненужных символов, пунктуации\n",
    "    tokens = nltk.word_tokenize(text)  # Токенизация текста\n",
    "    \n",
    "    return tokens"
   ]
  },
  {
   "cell_type": "code",
   "execution_count": 31,
   "id": "5808cfab-191a-4e6b-9ed1-76fccf917b91",
   "metadata": {},
   "outputs": [],
   "source": [
    "# Применение предобработки текста к столбцу Duties\n",
    "bigram_df['Processed Duties'] = bigram_df['Duties'].apply(preprocess_text)"
   ]
  },
  {
   "cell_type": "code",
   "execution_count": 32,
   "id": "40609763-6f13-44ce-975c-17cb494f814a",
   "metadata": {},
   "outputs": [
    {
     "data": {
      "text/html": [
       "<div>\n",
       "<style scoped>\n",
       "    .dataframe tbody tr th:only-of-type {\n",
       "        vertical-align: middle;\n",
       "    }\n",
       "\n",
       "    .dataframe tbody tr th {\n",
       "        vertical-align: top;\n",
       "    }\n",
       "\n",
       "    .dataframe thead th {\n",
       "        text-align: right;\n",
       "    }\n",
       "</style>\n",
       "<table border=\"1\" class=\"dataframe\">\n",
       "  <thead>\n",
       "    <tr style=\"text-align: right;\">\n",
       "      <th></th>\n",
       "      <th>Title</th>\n",
       "      <th>Salary</th>\n",
       "      <th>Experience</th>\n",
       "      <th>Skills</th>\n",
       "      <th>Professional Role</th>\n",
       "      <th>Specialization</th>\n",
       "      <th>Duties</th>\n",
       "      <th>City</th>\n",
       "      <th>Link</th>\n",
       "      <th>Processed Duties</th>\n",
       "    </tr>\n",
       "  </thead>\n",
       "  <tbody>\n",
       "    <tr>\n",
       "      <th>0</th>\n",
       "      <td>Frontend Developer (React)</td>\n",
       "      <td>None</td>\n",
       "      <td>От 1 года до 3 лет</td>\n",
       "      <td>[JavaScript, React, TypeScript, MobX, Bootstra...</td>\n",
       "      <td>None</td>\n",
       "      <td>Java Developer</td>\n",
       "      <td>&lt;p&gt;Мы аккредитованная IT-компания, основанная ...</td>\n",
       "      <td>Екатеринбург</td>\n",
       "      <td>https://hh.ru/vacancy/94287939</td>\n",
       "      <td>[мы, аккредитованная, itкомпания, основанная, ...</td>\n",
       "    </tr>\n",
       "    <tr>\n",
       "      <th>1</th>\n",
       "      <td>HTML-верстальщик (HTML / CSS / JavaScript)</td>\n",
       "      <td>{'from': 70000, 'to': 100000, 'currency': 'RUR...</td>\n",
       "      <td>От 1 года до 3 лет</td>\n",
       "      <td>[ReactJS, HTML, CSS, HTML5, JavaScript, Git, C...</td>\n",
       "      <td>None</td>\n",
       "      <td>SMM</td>\n",
       "      <td>&lt;p&gt;Привет!&lt;/p&gt; &lt;p&gt;Мы - компания ISS.Digital. М...</td>\n",
       "      <td>Москва</td>\n",
       "      <td>https://hh.ru/vacancy/94318962</td>\n",
       "      <td>[привет, мы, компания, issdigital, мы, создаем...</td>\n",
       "    </tr>\n",
       "    <tr>\n",
       "      <th>2</th>\n",
       "      <td>Java программист</td>\n",
       "      <td>None</td>\n",
       "      <td>От 1 года до 3 лет</td>\n",
       "      <td>[Java, PostgreSQL, Spring Boot, ORACLE]</td>\n",
       "      <td>None</td>\n",
       "      <td>Internet Marketer</td>\n",
       "      <td>&lt;p&gt;&lt;strong&gt;ПРОЕКТ:&lt;/strong&gt;&lt;/p&gt; &lt;p&gt;Ищем разраб...</td>\n",
       "      <td>Воронеж</td>\n",
       "      <td>https://hh.ru/vacancy/94268107</td>\n",
       "      <td>[проект, ищем, разработчиков, java, для, разви...</td>\n",
       "    </tr>\n",
       "    <tr>\n",
       "      <th>3</th>\n",
       "      <td>Ведущий программист Java (удалённо)</td>\n",
       "      <td>None</td>\n",
       "      <td>От 3 до 6 лет</td>\n",
       "      <td>[DevOps (Git (bitbucket), Jenkins, ansible, ma...</td>\n",
       "      <td>None</td>\n",
       "      <td>Web Designer</td>\n",
       "      <td>&lt;p&gt;&lt;em&gt;&lt;strong&gt;КОМПАНИЯ ООО ИЦ «АЙ-ТЕКО»&lt;/stro...</td>\n",
       "      <td>Москва</td>\n",
       "      <td>https://hh.ru/vacancy/92430462</td>\n",
       "      <td>[компания, ооо, иц, айтеко, ведущий, российски...</td>\n",
       "    </tr>\n",
       "    <tr>\n",
       "      <th>4</th>\n",
       "      <td>Младший разработчик</td>\n",
       "      <td>{'from': 60000, 'to': None, 'currency': 'RUR',...</td>\n",
       "      <td>Нет опыта</td>\n",
       "      <td>[]</td>\n",
       "      <td>None</td>\n",
       "      <td>Java Developer</td>\n",
       "      <td>&lt;p&gt;Вакансия для начинающих разработчиков с неб...</td>\n",
       "      <td>Санкт-Петербург</td>\n",
       "      <td>https://hh.ru/vacancy/94254962</td>\n",
       "      <td>[вакансия, для, начинающих, разработчиков, с, ...</td>\n",
       "    </tr>\n",
       "  </tbody>\n",
       "</table>\n",
       "</div>"
      ],
      "text/plain": [
       "                                        Title  \\\n",
       "0                  Frontend Developer (React)   \n",
       "1  HTML-верстальщик (HTML / CSS / JavaScript)   \n",
       "2                            Java программист   \n",
       "3         Ведущий программист Java (удалённо)   \n",
       "4                         Младший разработчик   \n",
       "\n",
       "                                              Salary          Experience  \\\n",
       "0                                               None  От 1 года до 3 лет   \n",
       "1  {'from': 70000, 'to': 100000, 'currency': 'RUR...  От 1 года до 3 лет   \n",
       "2                                               None  От 1 года до 3 лет   \n",
       "3                                               None       От 3 до 6 лет   \n",
       "4  {'from': 60000, 'to': None, 'currency': 'RUR',...           Нет опыта   \n",
       "\n",
       "                                              Skills Professional Role  \\\n",
       "0  [JavaScript, React, TypeScript, MobX, Bootstra...              None   \n",
       "1  [ReactJS, HTML, CSS, HTML5, JavaScript, Git, C...              None   \n",
       "2            [Java, PostgreSQL, Spring Boot, ORACLE]              None   \n",
       "3  [DevOps (Git (bitbucket), Jenkins, ansible, ma...              None   \n",
       "4                                                 []              None   \n",
       "\n",
       "      Specialization                                             Duties  \\\n",
       "0     Java Developer  <p>Мы аккредитованная IT-компания, основанная ...   \n",
       "1                SMM  <p>Привет!</p> <p>Мы - компания ISS.Digital. М...   \n",
       "2  Internet Marketer  <p><strong>ПРОЕКТ:</strong></p> <p>Ищем разраб...   \n",
       "3       Web Designer  <p><em><strong>КОМПАНИЯ ООО ИЦ «АЙ-ТЕКО»</stro...   \n",
       "4     Java Developer  <p>Вакансия для начинающих разработчиков с неб...   \n",
       "\n",
       "              City                            Link  \\\n",
       "0     Екатеринбург  https://hh.ru/vacancy/94287939   \n",
       "1           Москва  https://hh.ru/vacancy/94318962   \n",
       "2          Воронеж  https://hh.ru/vacancy/94268107   \n",
       "3           Москва  https://hh.ru/vacancy/92430462   \n",
       "4  Санкт-Петербург  https://hh.ru/vacancy/94254962   \n",
       "\n",
       "                                    Processed Duties  \n",
       "0  [мы, аккредитованная, itкомпания, основанная, ...  \n",
       "1  [привет, мы, компания, issdigital, мы, создаем...  \n",
       "2  [проект, ищем, разработчиков, java, для, разви...  \n",
       "3  [компания, ооо, иц, айтеко, ведущий, российски...  \n",
       "4  [вакансия, для, начинающих, разработчиков, с, ...  "
      ]
     },
     "execution_count": 32,
     "metadata": {},
     "output_type": "execute_result"
    }
   ],
   "source": [
    "bigram_df.head()"
   ]
  },
  {
   "cell_type": "code",
   "execution_count": 33,
   "id": "16e5f557-96b6-4596-a8ed-e37b5638e916",
   "metadata": {},
   "outputs": [],
   "source": [
    "def find_bigrams(tokens):\n",
    "    \"\"\"\n",
    "    Функция для нахождения би-грамм в списке токенов\n",
    "\n",
    "    Параметры:\n",
    "        - tokens (list): Список токенов, в котором нужно найти би-граммы.\n",
    "\n",
    "    Возвращает:\n",
    "        list: Список би-грамм, найденных в заданных токенах.\n",
    "    \n",
    "    \"\"\"\n",
    "    bigrams = list(ngrams(tokens, 2))\n",
    "    return bigrams"
   ]
  },
  {
   "cell_type": "markdown",
   "id": "e7d575b1-92ba-4ef1-b25a-a136896aa987",
   "metadata": {},
   "source": [
    "Создадим словарь `specialization_bigrams`, где ключами являются различные специализации из столбца `Specialization`, а значениями - би-граммы, найденные в текстовых данных признака `Processed Duties` для каждой специализации."
   ]
  },
  {
   "cell_type": "code",
   "execution_count": 34,
   "id": "f9a3b066-dc7a-486e-8bd3-212f12cb9455",
   "metadata": {},
   "outputs": [],
   "source": [
    "# Создание словаря для хранения би-грамм для каждой специализации\n",
    "specialization_bigrams = {}\n",
    "\n",
    "# Нахождение би-грамм для каждой специализации\n",
    "for specialization in bigram_df['Specialization'].unique():\n",
    "    specialization_tokens = bigram_df[bigram_df['Specialization'] == specialization]['Processed Duties'].sum()\n",
    "    specialization_bigrams[specialization] = find_bigrams(specialization_tokens)"
   ]
  },
  {
   "cell_type": "markdown",
   "id": "f2508f15-a09a-48fb-8c94-afd475b832b8",
   "metadata": {},
   "source": [
    "Выводем 10 самых часто встречающихся би-грамм для каждой специализации из словаря specialization_bigrams. Пройдемся по каждому элементу словаря и выводем название специализации и наиболее часто встречающиеся би-граммы для этой специализации вместе с их частотой."
   ]
  },
  {
   "cell_type": "code",
   "execution_count": 35,
   "id": "43f0e6d3-73f3-4091-a059-f69b52e02525",
   "metadata": {},
   "outputs": [
    {
     "name": "stdout",
     "output_type": "stream",
     "text": [
      "Специальностям: Java Developer\n",
      "('опыт', 'работы'): 56\n",
      "('работы', 'с'): 56\n",
      "('участие', 'в'): 26\n",
      "('умение', 'работать'): 19\n",
      "('работать', 'с'): 16\n",
      "('по', 'тк'): 14\n",
      "('в', 'команде'): 13\n",
      "('работы', 'в'): 12\n",
      "('тк', 'рф'): 11\n",
      "('оформление', 'по'): 11\n",
      "\n",
      "\n",
      "Специальностям: SMM\n",
      "('опыт', 'работы'): 61\n",
      "('работы', 'с'): 49\n",
      "('участие', 'в'): 26\n",
      "('работа', 'в'): 20\n",
      "('работы', 'в'): 16\n",
      "('в', 'команде'): 15\n",
      "('с', 'до'): 14\n",
      "('что', 'мы'): 13\n",
      "('тк', 'рф'): 13\n",
      "('по', 'тк'): 11\n",
      "\n",
      "\n",
      "Специальностям: Internet Marketer\n",
      "('опыт', 'работы'): 43\n",
      "('работы', 'с'): 37\n",
      "('участие', 'в'): 16\n",
      "('опыт', 'разработки'): 16\n",
      "('у', 'нас'): 14\n",
      "('тк', 'рф'): 14\n",
      "('работы', 'в'): 11\n",
      "('формат', 'работы'): 10\n",
      "('оформление', 'по'): 10\n",
      "('с', 'до'): 10\n",
      "\n",
      "\n",
      "Специальностям: Web Designer\n",
      "('опыт', 'работы'): 49\n",
      "('работы', 'с'): 44\n",
      "('мы', 'предлагаем'): 18\n",
      "('график', 'работы'): 15\n",
      "('тк', 'рф'): 13\n",
      "('работы', 'в'): 13\n",
      "('у', 'нас'): 13\n",
      "('умение', 'работать'): 11\n",
      "('работа', 'с'): 11\n",
      "('участие', 'в'): 11\n",
      "\n",
      "\n"
     ]
    }
   ],
   "source": [
    "# Нахождение 10 самых частых би-грамм для каждой специализации\n",
    "for specialization, bigrams in specialization_bigrams.items():\n",
    "    print(f'Специальностям: {specialization}')\n",
    "    for bigram, count in Counter(bigrams).most_common(10):\n",
    "        print(f'{bigram}: {count}')\n",
    "    print('\\n')"
   ]
  },
  {
   "cell_type": "markdown",
   "id": "7e040ded-e47d-4252-ab66-f7afb4231fd0",
   "metadata": {},
   "source": [
    "<a name=\"2.1.\"></a>\n",
    "## Задание 2\n",
    "<font size=\"2\">([к содержанию](#0.0))</font>"
   ]
  },
  {
   "cell_type": "markdown",
   "id": "f624225f-8ae0-46cc-96da-c65f1ce08716",
   "metadata": {},
   "source": [
    "Задача состоит в том, чтобы создать датафрейм, содержащий только те вакансии, которые присутствуют в первом файле, но отсутствуют во втором."
   ]
  },
  {
   "cell_type": "code",
   "execution_count": 36,
   "id": "40a75318-004d-4639-9119-1fbaf577034f",
   "metadata": {},
   "outputs": [],
   "source": [
    "import pandas as pd"
   ]
  },
  {
   "cell_type": "code",
   "execution_count": 37,
   "id": "bc1087b5-b30a-4c2a-9df9-d763fb105b19",
   "metadata": {},
   "outputs": [
    {
     "name": "stdout",
     "output_type": "stream",
     "text": [
      "File load: Success\n"
     ]
    }
   ],
   "source": [
    "try:\n",
    "    data_1 = pd.read_excel('internet_marketologs_part_1.xlsx')\n",
    "    data_2 = pd.read_excel('internet_marketologs_part_2.xlsx')\n",
    "    print('File load: Success')\n",
    "except:\n",
    "    print('File load: Failed')"
   ]
  },
  {
   "cell_type": "code",
   "execution_count": 38,
   "id": "3c8c13d8-298b-4058-bede-a9e4251cfcae",
   "metadata": {},
   "outputs": [
    {
     "data": {
      "text/html": [
       "<div>\n",
       "<style scoped>\n",
       "    .dataframe tbody tr th:only-of-type {\n",
       "        vertical-align: middle;\n",
       "    }\n",
       "\n",
       "    .dataframe tbody tr th {\n",
       "        vertical-align: top;\n",
       "    }\n",
       "\n",
       "    .dataframe thead th {\n",
       "        text-align: right;\n",
       "    }\n",
       "</style>\n",
       "<table border=\"1\" class=\"dataframe\">\n",
       "  <thead>\n",
       "    <tr style=\"text-align: right;\">\n",
       "      <th></th>\n",
       "      <th>name</th>\n",
       "      <th>skills</th>\n",
       "      <th>experiences</th>\n",
       "      <th>employments</th>\n",
       "      <th>professional_roles</th>\n",
       "      <th>city</th>\n",
       "      <th>salary_from</th>\n",
       "      <th>salary_to</th>\n",
       "      <th>currency</th>\n",
       "      <th>gross</th>\n",
       "      <th>schedules</th>\n",
       "      <th>description</th>\n",
       "      <th>url</th>\n",
       "    </tr>\n",
       "  </thead>\n",
       "  <tbody>\n",
       "    <tr>\n",
       "      <th>0</th>\n",
       "      <td>Помощник интернет-маркетолога</td>\n",
       "      <td>интернет-реклама, seo, яндекс.директ, таргетин...</td>\n",
       "      <td>Нет опыта</td>\n",
       "      <td>Полная занятость</td>\n",
       "      <td>Менеджер по маркетингу, интернет-маркетолог</td>\n",
       "      <td>Санкт-Петербург</td>\n",
       "      <td>50000</td>\n",
       "      <td>80000</td>\n",
       "      <td>RUR</td>\n",
       "      <td>False</td>\n",
       "      <td>Полный день</td>\n",
       "      <td>В маркетинговое агентство требуется Интернетма...</td>\n",
       "      <td>https://hh.ru/vacancy/89674701</td>\n",
       "    </tr>\n",
       "    <tr>\n",
       "      <th>1</th>\n",
       "      <td>Интернет-маркетолог (стажер)</td>\n",
       "      <td>продвижение бренда, планирование рекламных кам...</td>\n",
       "      <td>Нет опыта</td>\n",
       "      <td>Стажировка</td>\n",
       "      <td>Менеджер по маркетингу, интернет-маркетолог</td>\n",
       "      <td>Новосибирск</td>\n",
       "      <td>30000</td>\n",
       "      <td>40000</td>\n",
       "      <td>RUR</td>\n",
       "      <td>False</td>\n",
       "      <td>Полный день</td>\n",
       "      <td>Маркетика  маркетинговое агентство, делаем инт...</td>\n",
       "      <td>https://hh.ru/vacancy/89023150</td>\n",
       "    </tr>\n",
       "  </tbody>\n",
       "</table>\n",
       "</div>"
      ],
      "text/plain": [
       "                            name  \\\n",
       "0  Помощник интернет-маркетолога   \n",
       "1   Интернет-маркетолог (стажер)   \n",
       "\n",
       "                                              skills experiences  \\\n",
       "0  интернет-реклама, seo, яндекс.директ, таргетин...   Нет опыта   \n",
       "1  продвижение бренда, планирование рекламных кам...   Нет опыта   \n",
       "\n",
       "        employments                           professional_roles  \\\n",
       "0  Полная занятость  Менеджер по маркетингу, интернет-маркетолог   \n",
       "1        Стажировка  Менеджер по маркетингу, интернет-маркетолог   \n",
       "\n",
       "              city salary_from salary_to currency  gross    schedules  \\\n",
       "0  Санкт-Петербург       50000     80000      RUR  False  Полный день   \n",
       "1      Новосибирск       30000     40000      RUR  False  Полный день   \n",
       "\n",
       "                                         description  \\\n",
       "0  В маркетинговое агентство требуется Интернетма...   \n",
       "1  Маркетика  маркетинговое агентство, делаем инт...   \n",
       "\n",
       "                              url  \n",
       "0  https://hh.ru/vacancy/89674701  \n",
       "1  https://hh.ru/vacancy/89023150  "
      ]
     },
     "execution_count": 38,
     "metadata": {},
     "output_type": "execute_result"
    }
   ],
   "source": [
    "data_1.head(2)"
   ]
  },
  {
   "cell_type": "code",
   "execution_count": 39,
   "id": "52464b83-8b33-47bb-8892-9d8991333daf",
   "metadata": {},
   "outputs": [
    {
     "data": {
      "text/html": [
       "<div>\n",
       "<style scoped>\n",
       "    .dataframe tbody tr th:only-of-type {\n",
       "        vertical-align: middle;\n",
       "    }\n",
       "\n",
       "    .dataframe tbody tr th {\n",
       "        vertical-align: top;\n",
       "    }\n",
       "\n",
       "    .dataframe thead th {\n",
       "        text-align: right;\n",
       "    }\n",
       "</style>\n",
       "<table border=\"1\" class=\"dataframe\">\n",
       "  <thead>\n",
       "    <tr style=\"text-align: right;\">\n",
       "      <th></th>\n",
       "      <th>name</th>\n",
       "      <th>skills</th>\n",
       "      <th>experiences</th>\n",
       "      <th>employments</th>\n",
       "      <th>professional_roles</th>\n",
       "      <th>city</th>\n",
       "      <th>salary_from</th>\n",
       "      <th>salary_to</th>\n",
       "      <th>currency</th>\n",
       "      <th>gross</th>\n",
       "      <th>schedules</th>\n",
       "      <th>description</th>\n",
       "      <th>url</th>\n",
       "    </tr>\n",
       "  </thead>\n",
       "  <tbody>\n",
       "    <tr>\n",
       "      <th>0</th>\n",
       "      <td>Интернет-маркетолог (Стажировка)</td>\n",
       "      <td>маркетинговые коммуникации, crm, управление пр...</td>\n",
       "      <td>Нет опыта</td>\n",
       "      <td>Полная занятость</td>\n",
       "      <td>Менеджер по маркетингу, интернет-маркетолог</td>\n",
       "      <td>Киров (Кировская область)</td>\n",
       "      <td>40000</td>\n",
       "      <td>60000</td>\n",
       "      <td>RUR</td>\n",
       "      <td>False</td>\n",
       "      <td>Удаленная работа</td>\n",
       "      <td>Интернетмаркетолог (Обучение) Привет, меня зов...</td>\n",
       "      <td>https://hh.ru/vacancy/89422910</td>\n",
       "    </tr>\n",
       "    <tr>\n",
       "      <th>1</th>\n",
       "      <td>Менеджер по работе с блогерами/Интернет-маркет...</td>\n",
       "      <td>интернет-реклама, продвижение бренда, обучение...</td>\n",
       "      <td>Нет опыта</td>\n",
       "      <td>Полная занятость</td>\n",
       "      <td>Менеджер по маркетингу, интернет-маркетолог</td>\n",
       "      <td>Новосибирск</td>\n",
       "      <td>35000</td>\n",
       "      <td>70000</td>\n",
       "      <td>RUR</td>\n",
       "      <td>False</td>\n",
       "      <td>Полный день</td>\n",
       "      <td>Кто мы Brand. Ad  международное рекламное аген...</td>\n",
       "      <td>https://hh.ru/vacancy/89255478</td>\n",
       "    </tr>\n",
       "  </tbody>\n",
       "</table>\n",
       "</div>"
      ],
      "text/plain": [
       "                                                name  \\\n",
       "0                   Интернет-маркетолог (Стажировка)   \n",
       "1  Менеджер по работе с блогерами/Интернет-маркет...   \n",
       "\n",
       "                                              skills experiences  \\\n",
       "0  маркетинговые коммуникации, crm, управление пр...   Нет опыта   \n",
       "1  интернет-реклама, продвижение бренда, обучение...   Нет опыта   \n",
       "\n",
       "        employments                           professional_roles  \\\n",
       "0  Полная занятость  Менеджер по маркетингу, интернет-маркетолог   \n",
       "1  Полная занятость  Менеджер по маркетингу, интернет-маркетолог   \n",
       "\n",
       "                        city salary_from salary_to currency  gross  \\\n",
       "0  Киров (Кировская область)       40000     60000      RUR  False   \n",
       "1                Новосибирск       35000     70000      RUR  False   \n",
       "\n",
       "          schedules                                        description  \\\n",
       "0  Удаленная работа  Интернетмаркетолог (Обучение) Привет, меня зов...   \n",
       "1       Полный день  Кто мы Brand. Ad  международное рекламное аген...   \n",
       "\n",
       "                              url  \n",
       "0  https://hh.ru/vacancy/89422910  \n",
       "1  https://hh.ru/vacancy/89255478  "
      ]
     },
     "execution_count": 39,
     "metadata": {},
     "output_type": "execute_result"
    }
   ],
   "source": [
    "data_2.head(2)"
   ]
  },
  {
   "cell_type": "markdown",
   "id": "7393dad2-ae8e-44c4-b790-b8a7bc2b578b",
   "metadata": {},
   "source": [
    "Единственный уникальный признак в обоих датасетах это `url`. Его и будем использовать для работы"
   ]
  },
  {
   "cell_type": "code",
   "execution_count": 40,
   "id": "a0ddca3f-3aed-49a2-a564-35b92dd8fb50",
   "metadata": {},
   "outputs": [],
   "source": [
    "# Создание датафрейма с вакансиями, присутствующими в первом датасете, но отсутствующими во втором\n",
    "unique_vacancies_df = data_1[~data_1['url'].isin(data_2['url'])]"
   ]
  },
  {
   "cell_type": "code",
   "execution_count": 41,
   "id": "95c94562-2684-423c-8e0d-a42f43ef1b7b",
   "metadata": {},
   "outputs": [
    {
     "data": {
      "text/html": [
       "<div>\n",
       "<style scoped>\n",
       "    .dataframe tbody tr th:only-of-type {\n",
       "        vertical-align: middle;\n",
       "    }\n",
       "\n",
       "    .dataframe tbody tr th {\n",
       "        vertical-align: top;\n",
       "    }\n",
       "\n",
       "    .dataframe thead th {\n",
       "        text-align: right;\n",
       "    }\n",
       "</style>\n",
       "<table border=\"1\" class=\"dataframe\">\n",
       "  <thead>\n",
       "    <tr style=\"text-align: right;\">\n",
       "      <th></th>\n",
       "      <th>name</th>\n",
       "      <th>skills</th>\n",
       "      <th>experiences</th>\n",
       "      <th>employments</th>\n",
       "      <th>professional_roles</th>\n",
       "      <th>city</th>\n",
       "      <th>salary_from</th>\n",
       "      <th>salary_to</th>\n",
       "      <th>currency</th>\n",
       "      <th>gross</th>\n",
       "      <th>schedules</th>\n",
       "      <th>description</th>\n",
       "      <th>url</th>\n",
       "    </tr>\n",
       "  </thead>\n",
       "  <tbody>\n",
       "    <tr>\n",
       "      <th>3</th>\n",
       "      <td>Интернет-маркетолог</td>\n",
       "      <td>не указано</td>\n",
       "      <td>Нет опыта</td>\n",
       "      <td>Полная занятость</td>\n",
       "      <td>Менеджер по маркетингу, интернет-маркетолог</td>\n",
       "      <td>Самара</td>\n",
       "      <td>100000</td>\n",
       "      <td>не указано</td>\n",
       "      <td>RUR</td>\n",
       "      <td>False</td>\n",
       "      <td>Полный день</td>\n",
       "      <td>Обязанности Лидогенерация Контроль подрядчиков...</td>\n",
       "      <td>https://hh.ru/vacancy/89134967</td>\n",
       "    </tr>\n",
       "    <tr>\n",
       "      <th>5</th>\n",
       "      <td>Помощник руководителя (маркетолога)/Ученик/Инт...</td>\n",
       "      <td>не указано</td>\n",
       "      <td>Нет опыта</td>\n",
       "      <td>Стажировка</td>\n",
       "      <td>Менеджер по маркетингу, интернет-маркетолог</td>\n",
       "      <td>Екатеринбург</td>\n",
       "      <td>50000</td>\n",
       "      <td>80000</td>\n",
       "      <td>RUR</td>\n",
       "      <td>False</td>\n",
       "      <td>Полный день</td>\n",
       "      <td>В компанию quotМалиновкаquot, крупнейшему прои...</td>\n",
       "      <td>https://hh.ru/vacancy/88585477</td>\n",
       "    </tr>\n",
       "    <tr>\n",
       "      <th>6</th>\n",
       "      <td>Junior интернет-маркетолог</td>\n",
       "      <td>яндекс.метрика, анализ конкурентной среды, ана...</td>\n",
       "      <td>Нет опыта</td>\n",
       "      <td>Полная занятость</td>\n",
       "      <td>Менеджер по маркетингу, интернет-маркетолог</td>\n",
       "      <td>Минск</td>\n",
       "      <td>800</td>\n",
       "      <td>2000</td>\n",
       "      <td>BYR</td>\n",
       "      <td>True</td>\n",
       "      <td>Удаленная работа</td>\n",
       "      <td>Вакансия открыта до 1 декабря включительно Мы,...</td>\n",
       "      <td>https://hh.ru/vacancy/88648716</td>\n",
       "    </tr>\n",
       "    <tr>\n",
       "      <th>14</th>\n",
       "      <td>Маркетолог / интернет-маркетолог</td>\n",
       "      <td>не указано</td>\n",
       "      <td>Нет опыта</td>\n",
       "      <td>Полная занятость</td>\n",
       "      <td>Менеджер по маркетингу, интернет-маркетолог</td>\n",
       "      <td>Минск</td>\n",
       "      <td>1000</td>\n",
       "      <td>2000</td>\n",
       "      <td>BYR</td>\n",
       "      <td>False</td>\n",
       "      <td>Полный день</td>\n",
       "      <td>ОООВосходЭнерго на рынке электротехники более ...</td>\n",
       "      <td>https://hh.ru/vacancy/88514712</td>\n",
       "    </tr>\n",
       "    <tr>\n",
       "      <th>27</th>\n",
       "      <td>Интернет-маркетолог</td>\n",
       "      <td>не указано</td>\n",
       "      <td>Нет опыта</td>\n",
       "      <td>Полная занятость</td>\n",
       "      <td>Менеджер по маркетингу, интернет-маркетолог</td>\n",
       "      <td>Новосибирск</td>\n",
       "      <td>40000</td>\n",
       "      <td>не указано</td>\n",
       "      <td>RUR</td>\n",
       "      <td>False</td>\n",
       "      <td>Полный день</td>\n",
       "      <td>Кто мы и что делаем Доставляем грузы на самолё...</td>\n",
       "      <td>https://hh.ru/vacancy/89591853</td>\n",
       "    </tr>\n",
       "    <tr>\n",
       "      <th>...</th>\n",
       "      <td>...</td>\n",
       "      <td>...</td>\n",
       "      <td>...</td>\n",
       "      <td>...</td>\n",
       "      <td>...</td>\n",
       "      <td>...</td>\n",
       "      <td>...</td>\n",
       "      <td>...</td>\n",
       "      <td>...</td>\n",
       "      <td>...</td>\n",
       "      <td>...</td>\n",
       "      <td>...</td>\n",
       "      <td>...</td>\n",
       "    </tr>\n",
       "    <tr>\n",
       "      <th>1022</th>\n",
       "      <td>Интернет маркетолог</td>\n",
       "      <td>маркетинговый анализ, google analytics, intern...</td>\n",
       "      <td>От 3 до 6 лет</td>\n",
       "      <td>Полная занятость</td>\n",
       "      <td>Менеджер по маркетингу, интернет-маркетолог</td>\n",
       "      <td>Москва</td>\n",
       "      <td>не указано</td>\n",
       "      <td>120000</td>\n",
       "      <td>RUR</td>\n",
       "      <td>False</td>\n",
       "      <td>Полный день</td>\n",
       "      <td>Всем привет, международная производственная ко...</td>\n",
       "      <td>https://hh.ru/vacancy/88553608</td>\n",
       "    </tr>\n",
       "    <tr>\n",
       "      <th>1023</th>\n",
       "      <td>Интернет-маркетолог</td>\n",
       "      <td>digital marketing, реклама, internet marketing...</td>\n",
       "      <td>От 3 до 6 лет</td>\n",
       "      <td>Полная занятость</td>\n",
       "      <td>Менеджер по маркетингу, интернет-маркетолог</td>\n",
       "      <td>Екатеринбург</td>\n",
       "      <td>не указано</td>\n",
       "      <td>не указано</td>\n",
       "      <td>не указано</td>\n",
       "      <td>False</td>\n",
       "      <td>Полный день</td>\n",
       "      <td>ООО quotЦентр косметологии и пластической хиру...</td>\n",
       "      <td>https://hh.ru/vacancy/89258682</td>\n",
       "    </tr>\n",
       "    <tr>\n",
       "      <th>1024</th>\n",
       "      <td>Интернет-маркетолог (Специалист по рекламе)</td>\n",
       "      <td>b2b маркетинг, интернет маркетинг, аналитическ...</td>\n",
       "      <td>От 3 до 6 лет</td>\n",
       "      <td>Полная занятость</td>\n",
       "      <td>Менеджер по маркетингу, интернет-маркетолог</td>\n",
       "      <td>Чебоксары</td>\n",
       "      <td>55000</td>\n",
       "      <td>не указано</td>\n",
       "      <td>RUR</td>\n",
       "      <td>True</td>\n",
       "      <td>Полный день</td>\n",
       "      <td>Мы группа компаний Точка Роста, производим обо...</td>\n",
       "      <td>https://hh.ru/vacancy/86258869</td>\n",
       "    </tr>\n",
       "    <tr>\n",
       "      <th>1026</th>\n",
       "      <td>SMM - менеджер, интернет-маркетолог (работа в ...</td>\n",
       "      <td>smm, ведение групп в социальных сетях, продвиж...</td>\n",
       "      <td>От 3 до 6 лет</td>\n",
       "      <td>Полная занятость</td>\n",
       "      <td>SMM-менеджер, контент-менеджер</td>\n",
       "      <td>Москва</td>\n",
       "      <td>80000</td>\n",
       "      <td>не указано</td>\n",
       "      <td>RUR</td>\n",
       "      <td>False</td>\n",
       "      <td>Полный день</td>\n",
       "      <td>Burevestnik Group  ведущий яхтенный холдинг РФ...</td>\n",
       "      <td>https://hh.ru/vacancy/88651208</td>\n",
       "    </tr>\n",
       "    <tr>\n",
       "      <th>1028</th>\n",
       "      <td>Интернет-маркетолог / Perfomance Marketing Man...</td>\n",
       "      <td>не указано</td>\n",
       "      <td>От 3 до 6 лет</td>\n",
       "      <td>Полная занятость</td>\n",
       "      <td>Менеджер по маркетингу, интернет-маркетолог</td>\n",
       "      <td>Москва</td>\n",
       "      <td>не указано</td>\n",
       "      <td>не указано</td>\n",
       "      <td>не указано</td>\n",
       "      <td>False</td>\n",
       "      <td>Полный день</td>\n",
       "      <td>bobber  молодой российский бренд премиальных т...</td>\n",
       "      <td>https://hh.ru/vacancy/89120158</td>\n",
       "    </tr>\n",
       "  </tbody>\n",
       "</table>\n",
       "<p>159 rows × 13 columns</p>\n",
       "</div>"
      ],
      "text/plain": [
       "                                                   name  \\\n",
       "3                                   Интернет-маркетолог   \n",
       "5     Помощник руководителя (маркетолога)/Ученик/Инт...   \n",
       "6                            Junior интернет-маркетолог   \n",
       "14                     Маркетолог / интернет-маркетолог   \n",
       "27                                  Интернет-маркетолог   \n",
       "...                                                 ...   \n",
       "1022                                Интернет маркетолог   \n",
       "1023                                Интернет-маркетолог   \n",
       "1024        Интернет-маркетолог (Специалист по рекламе)   \n",
       "1026  SMM - менеджер, интернет-маркетолог (работа в ...   \n",
       "1028  Интернет-маркетолог / Perfomance Marketing Man...   \n",
       "\n",
       "                                                 skills    experiences  \\\n",
       "3                                            не указано      Нет опыта   \n",
       "5                                            не указано      Нет опыта   \n",
       "6     яндекс.метрика, анализ конкурентной среды, ана...      Нет опыта   \n",
       "14                                           не указано      Нет опыта   \n",
       "27                                           не указано      Нет опыта   \n",
       "...                                                 ...            ...   \n",
       "1022  маркетинговый анализ, google analytics, intern...  От 3 до 6 лет   \n",
       "1023  digital marketing, реклама, internet marketing...  От 3 до 6 лет   \n",
       "1024  b2b маркетинг, интернет маркетинг, аналитическ...  От 3 до 6 лет   \n",
       "1026  smm, ведение групп в социальных сетях, продвиж...  От 3 до 6 лет   \n",
       "1028                                         не указано  От 3 до 6 лет   \n",
       "\n",
       "           employments                           professional_roles  \\\n",
       "3     Полная занятость  Менеджер по маркетингу, интернет-маркетолог   \n",
       "5           Стажировка  Менеджер по маркетингу, интернет-маркетолог   \n",
       "6     Полная занятость  Менеджер по маркетингу, интернет-маркетолог   \n",
       "14    Полная занятость  Менеджер по маркетингу, интернет-маркетолог   \n",
       "27    Полная занятость  Менеджер по маркетингу, интернет-маркетолог   \n",
       "...                ...                                          ...   \n",
       "1022  Полная занятость  Менеджер по маркетингу, интернет-маркетолог   \n",
       "1023  Полная занятость  Менеджер по маркетингу, интернет-маркетолог   \n",
       "1024  Полная занятость  Менеджер по маркетингу, интернет-маркетолог   \n",
       "1026  Полная занятость               SMM-менеджер, контент-менеджер   \n",
       "1028  Полная занятость  Менеджер по маркетингу, интернет-маркетолог   \n",
       "\n",
       "              city salary_from   salary_to    currency  gross  \\\n",
       "3           Самара      100000  не указано         RUR  False   \n",
       "5     Екатеринбург       50000       80000         RUR  False   \n",
       "6            Минск         800        2000         BYR   True   \n",
       "14           Минск        1000        2000         BYR  False   \n",
       "27     Новосибирск       40000  не указано         RUR  False   \n",
       "...            ...         ...         ...         ...    ...   \n",
       "1022        Москва  не указано      120000         RUR  False   \n",
       "1023  Екатеринбург  не указано  не указано  не указано  False   \n",
       "1024     Чебоксары       55000  не указано         RUR   True   \n",
       "1026        Москва       80000  не указано         RUR  False   \n",
       "1028        Москва  не указано  не указано  не указано  False   \n",
       "\n",
       "             schedules                                        description  \\\n",
       "3          Полный день  Обязанности Лидогенерация Контроль подрядчиков...   \n",
       "5          Полный день  В компанию quotМалиновкаquot, крупнейшему прои...   \n",
       "6     Удаленная работа  Вакансия открыта до 1 декабря включительно Мы,...   \n",
       "14         Полный день  ОООВосходЭнерго на рынке электротехники более ...   \n",
       "27         Полный день  Кто мы и что делаем Доставляем грузы на самолё...   \n",
       "...                ...                                                ...   \n",
       "1022       Полный день  Всем привет, международная производственная ко...   \n",
       "1023       Полный день  ООО quotЦентр косметологии и пластической хиру...   \n",
       "1024       Полный день  Мы группа компаний Точка Роста, производим обо...   \n",
       "1026       Полный день  Burevestnik Group  ведущий яхтенный холдинг РФ...   \n",
       "1028       Полный день  bobber  молодой российский бренд премиальных т...   \n",
       "\n",
       "                                 url  \n",
       "3     https://hh.ru/vacancy/89134967  \n",
       "5     https://hh.ru/vacancy/88585477  \n",
       "6     https://hh.ru/vacancy/88648716  \n",
       "14    https://hh.ru/vacancy/88514712  \n",
       "27    https://hh.ru/vacancy/89591853  \n",
       "...                              ...  \n",
       "1022  https://hh.ru/vacancy/88553608  \n",
       "1023  https://hh.ru/vacancy/89258682  \n",
       "1024  https://hh.ru/vacancy/86258869  \n",
       "1026  https://hh.ru/vacancy/88651208  \n",
       "1028  https://hh.ru/vacancy/89120158  \n",
       "\n",
       "[159 rows x 13 columns]"
      ]
     },
     "execution_count": 41,
     "metadata": {},
     "output_type": "execute_result"
    }
   ],
   "source": [
    "unique_vacancies_df"
   ]
  },
  {
   "cell_type": "markdown",
   "id": "cabe1d1e-7d96-41f0-a71b-d551eb0c6676",
   "metadata": {},
   "source": [
    "<a name=\"3.1.\"></a>\n",
    "## Задание 3\n",
    "<font size=\"2\">([к содержанию](#0.0))</font>"
   ]
  },
  {
   "cell_type": "markdown",
   "id": "9b0c1ad1-7cd1-4518-800d-b0db8a6dd14f",
   "metadata": {},
   "source": [
    "Для построения простой рекомендательной системы будем использовать два признака `Skills` и `Duties`.  \n",
    "**Предобработка:**  \n",
    "- Уберем стоп-слова;\n",
    "- Приведем все в нижний регистр;\n",
    "- Леммитизация\n",
    "- Токенизация\n",
    "\n",
    "**Векторизация данных:**  \n",
    "Чтобы использовать оба признака для рекомендации нужно скомбинировать их информацию, чтобы получить полный контекст каждой вакансии. Векторизацию будем выполнять при помощи метода TF-IDF.\n",
    "\n",
    "**Векторизация запроса пользователя:**  \n",
    "Применим обученый трансформер на запрос пользователя.\n",
    "\n",
    "**Метрики растояния:**  \n",
    "Будем измерять косинусное растояние между векторами в пространстве. Косинусное расстояние измеряет сходство направлений векторов и принимает значения от 0 до 1, где 0 означает идеальное совпадение, а 1 - полное несовпадение."
   ]
  },
  {
   "cell_type": "code",
   "execution_count": 42,
   "id": "3a098468-191f-4105-b219-61ed45d4c69a",
   "metadata": {},
   "outputs": [],
   "source": [
    "!pip install -q pymorphy2"
   ]
  },
  {
   "cell_type": "code",
   "execution_count": 43,
   "id": "d99f89e1-6777-4391-86c7-f66179c38b18",
   "metadata": {},
   "outputs": [
    {
     "name": "stderr",
     "output_type": "stream",
     "text": [
      "[nltk_data] Downloading package punkt to\n",
      "[nltk_data]     /Users/pavelspirin/nltk_data...\n",
      "[nltk_data]   Package punkt is already up-to-date!\n",
      "[nltk_data] Downloading package stopwords to\n",
      "[nltk_data]     /Users/pavelspirin/nltk_data...\n",
      "[nltk_data]   Package stopwords is already up-to-date!\n",
      "[nltk_data] Downloading package wordnet to\n",
      "[nltk_data]     /Users/pavelspirin/nltk_data...\n",
      "[nltk_data]   Package wordnet is already up-to-date!\n"
     ]
    }
   ],
   "source": [
    "# Импорт библиотек для обработки текста\n",
    "import re\n",
    "import nltk\n",
    "from nltk.tokenize import word_tokenize\n",
    "from nltk.corpus import stopwords\n",
    "from nltk.stem import WordNetLemmatizer\n",
    "\n",
    "# Загрузка ресурсов для NLTK\n",
    "nltk.download('punkt')\n",
    "nltk.download('stopwords')\n",
    "nltk.download('wordnet')\n",
    "\n",
    "# Импорт библиотек для работы с данными\n",
    "import pandas as pd\n",
    "import ast\n",
    "\n",
    "# Импорт библиотек для векторизации текста и вычисления косинусного сходства\n",
    "from sklearn.feature_extraction.text import TfidfVectorizer\n",
    "from sklearn.metrics.pairwise import cosine_similarity\n",
    "\n",
    "# Импорт библиотеки для лемматизации слов\n",
    "import pymorphy2"
   ]
  },
  {
   "cell_type": "code",
   "execution_count": 44,
   "id": "7f61061a-a7d2-482e-a3de-b0c45303dcac",
   "metadata": {},
   "outputs": [
    {
     "name": "stdout",
     "output_type": "stream",
     "text": [
      "['JavaScript', 'React', 'TypeScript', 'MobX', 'Bootstrap', 'Git', 'Linux', 'Docker']\n"
     ]
    }
   ],
   "source": [
    "print(df.Skills[0])"
   ]
  },
  {
   "cell_type": "code",
   "execution_count": 45,
   "id": "fa319803-e509-4b3d-9870-9487000d295e",
   "metadata": {},
   "outputs": [
    {
     "name": "stdout",
     "output_type": "stream",
     "text": [
      "<p>Мы аккредитованная IT-компания, основанная в 2015 году<strong> </strong>как одно из R&amp;D-подразделений группы компаний <strong>S&amp;T Iskratel</strong> (дочерняя структура группы <strong>Kontron AG</strong>, Австрия). Основные направления нашей деятельности - это продукты и решения по цифровизации и автоматизации производственных и управленческих процессов в таких отраслях как транспорт, энергетика, общественная безопасность и телекоммуникации.</p> <p>Одним из новых направлений работы для нас является проект по разработке ПО ядра современных сетей связи на базе технологий 4G/5G. Данный проект предполагает реализацию решения, обеспечивающего необходимые функции мобильных сетей четвертого и пятого поколения в соответствии со спецификациями комитета по стандартизации технологий мобильной связи 3GPP. Большой объем работы по этим проектам предполагает расширение команды, поэтому мы <strong>ищем опытного Frontend разработчика (React)</strong>.</p> <p><strong>Наш стек: </strong>Typescript 4+, React 17+, Bootstrap 4, Redux/MobX, PostgreSQL, Redis, Docker, Jenkins, Linux (Ubuntu 20.04 LTS), Java/Spring (backend), Angular/TypeScript на ряде других проектов</p> <p><strong>Для нас важно:</strong></p> <ul> <li>уверенное знание JavaScript, React и его экосистемы, TypeScript;</li> <li>умение работать с Bootstrap, MaterialUI;</li> <li>английский на уровне чтения технической документации и выше.</li> </ul> <p><strong>Будет преимуществом:</strong></p> <ul> <li>опыт работы с Angular;</li> <li>знание Docker, Websocket, Unit testing;</li> <li>опыт архитектурного проектирования прикладных систем и постановки задач другим разработчикам в рамках решения одной большой задачи.</li> </ul> <p><strong>Мы предлагаем:</strong></p> <ul> <li>официальное трудоустройство (по ТК РФ);</li> <li>гибридный формат работы в Екатеринбурге (3 дня в офисе, 2 дня удаленно);</li> <li>ДМС (после испытательного срока);</li> <li>инвестиции в профессиональное обучение сотрудников;</li> <li>оплачиваемое участие в профессиональных конференциях, в том числе за границей.</li> </ul>\n"
     ]
    }
   ],
   "source": [
    "print(df.Duties[0])"
   ]
  },
  {
   "cell_type": "code",
   "execution_count": 46,
   "id": "764fb122-b3ac-4516-8e61-9ef09b5be223",
   "metadata": {},
   "outputs": [],
   "source": [
    "# Объединение, используя метод .str.join() и обычную конкатенацию строк\n",
    "df['Combined_text'] = df['Skills'].str.join(' ').astype(str) + ' ' + df['Duties'].str.strip()"
   ]
  },
  {
   "cell_type": "code",
   "execution_count": 47,
   "id": "76e20611-8f16-4b8f-aa35-54bc09b52b9c",
   "metadata": {},
   "outputs": [
    {
     "data": {
      "text/plain": [
       "'JavaScript React TypeScript MobX Bootstrap Git Linux Docker <p>Мы аккредитованная IT-компания, основанная в 2015 году<strong> </strong>как одно из R&amp;D-подразделений группы компаний <strong>S&amp;T Iskratel</strong> (дочерняя структура группы <strong>Kontron AG</strong>, Австрия). Основные направления нашей деятельности - это продукты и решения по цифровизации и автоматизации производственных и управленческих процессов в таких отраслях как транспорт, энергетика, общественная безопасность и телекоммуникации.</p> <p>Одним из новых направлений работы для нас является проект по разработке ПО ядра современных сетей связи на базе технологий 4G/5G. Данный проект предполагает реализацию решения, обеспечивающего необходимые функции мобильных сетей четвертого и пятого поколения в соответствии со спецификациями комитета по стандартизации технологий мобильной связи 3GPP. Большой объем работы по этим проектам предполагает расширение команды, поэтому мы <strong>ищем опытного Frontend разработчика (React)</strong>.</p> <p><strong>Наш стек: </strong>Typescript 4+, React 17+, Bootstrap 4, Redux/MobX, PostgreSQL, Redis, Docker, Jenkins, Linux (Ubuntu 20.04 LTS), Java/Spring (backend), Angular/TypeScript на ряде других проектов</p> <p><strong>Для нас важно:</strong></p> <ul> <li>уверенное знание JavaScript, React и его экосистемы, TypeScript;</li> <li>умение работать с Bootstrap, MaterialUI;</li> <li>английский на уровне чтения технической документации и выше.</li> </ul> <p><strong>Будет преимуществом:</strong></p> <ul> <li>опыт работы с Angular;</li> <li>знание Docker, Websocket, Unit testing;</li> <li>опыт архитектурного проектирования прикладных систем и постановки задач другим разработчикам в рамках решения одной большой задачи.</li> </ul> <p><strong>Мы предлагаем:</strong></p> <ul> <li>официальное трудоустройство (по ТК РФ);</li> <li>гибридный формат работы в Екатеринбурге (3 дня в офисе, 2 дня удаленно);</li> <li>ДМС (после испытательного срока);</li> <li>инвестиции в профессиональное обучение сотрудников;</li> <li>оплачиваемое участие в профессиональных конференциях, в том числе за границей.</li> </ul>'"
      ]
     },
     "execution_count": 47,
     "metadata": {},
     "output_type": "execute_result"
    }
   ],
   "source": [
    "df.Combined_text[0]"
   ]
  },
  {
   "cell_type": "code",
   "execution_count": null,
   "id": "04e9458e-d86d-45d7-9e11-3bf38bd99331",
   "metadata": {},
   "outputs": [],
   "source": []
  },
  {
   "cell_type": "markdown",
   "id": "4303f265-6221-4e78-b00e-1ed6251c336e",
   "metadata": {},
   "source": [
    "Возьмем стоп-слова для двух языков, так как в признаках у нас есть как русские, так и английские слова. Так же добавим свои стоп-слова (после множественных итераций выявил некторые символы, которые не удаляется), а затем объеденим"
   ]
  },
  {
   "cell_type": "code",
   "execution_count": 48,
   "id": "09283550-0471-44a8-aa76-69af41c4d0fb",
   "metadata": {},
   "outputs": [],
   "source": [
    "# Стоп-слова для английского и русского языков из NLTK\n",
    "english_stop_words = set(stopwords.words('english'))\n",
    "russian_stop_words = set(stopwords.words('russian'))\n",
    "\n",
    "# Дополнительные стоп-слова\n",
    "additional_stop_words = {'(', ')', '/', ':', ';'}\n",
    "\n",
    "# Объединение стоп-слов для обоих языков и дополнительных слов\n",
    "stop_words = english_stop_words.union(russian_stop_words, additional_stop_words)"
   ]
  },
  {
   "cell_type": "markdown",
   "id": "3b3e6920-f995-4bb7-95f7-f3379b0b67d0",
   "metadata": {},
   "source": [
    "Далее напишем функцию по предобработке данных. Будем использовать лемматизатор для русского языка из библиотеки pymorphy2. "
   ]
  },
  {
   "cell_type": "code",
   "execution_count": 49,
   "id": "e009606c-6e2f-4598-985f-4a0da6f373b8",
   "metadata": {},
   "outputs": [],
   "source": [
    "# Создание экземпляра лемматизатора\n",
    "morph = pymorphy2.MorphAnalyzer()"
   ]
  },
  {
   "cell_type": "code",
   "execution_count": 50,
   "id": "24f2899e-589b-475b-af1e-bc280d22cfb0",
   "metadata": {},
   "outputs": [],
   "source": [
    "# Функция для предобработки текста\n",
    "def preprocess_text(text):\n",
    "    # Проверка, является ли text строкой и не равен None\n",
    "    if isinstance(text, str) and text is not None:\n",
    "        text = re.sub(r'<[^>]+>', '', text)  # Удаление HTML тегов\n",
    "        text = text.lower()  # Приведение к нижнему регистру\n",
    "        tokens = word_tokenize(text)  # Токенизация текста\n",
    "        lemmatized_tokens = [morph.parse(word)[0].normal_form for word in tokens]  # Лемматизация слов\n",
    "        filtered_tokens = [word for word in lemmatized_tokens if word not in stop_words]  # Удаление стоп-слов\n",
    "        return ' '.join(filtered_tokens)  # Возврат строки\n",
    "    else:\n",
    "        # Если text не является строкой или равен None, вернуть его без изменений\n",
    "        return text"
   ]
  },
  {
   "cell_type": "code",
   "execution_count": 51,
   "id": "b3e6a0c3-3d41-4352-9960-553a34fac9d5",
   "metadata": {},
   "outputs": [],
   "source": [
    "# Применение предобработки\n",
    "df['Combined_text'] = df['Combined_text'].apply(preprocess_text)"
   ]
  },
  {
   "cell_type": "code",
   "execution_count": 52,
   "id": "1af95fff-8173-48f1-9559-b271b5c66d7f",
   "metadata": {},
   "outputs": [
    {
     "name": "stdout",
     "output_type": "stream",
     "text": [
      "javascript react typescript mobx bootstrap git linux docker аккредитовать it-компания , основать 2015 год r & amp d-подразделение группа компания & amp iskratel дочерний структура группа kontron ag , австрия . основной направление наш деятельность - это продукт решение цифровизация автоматизация производственный управленческий процесс отрасль транспорт , энергетика , общественный безопасность телекоммуникация . новый направление работа являться проект разработка ядро современный сеть связь база технология 4g/5g . данный проект предполагать реализация решение , обеспечивать необходимый функция мобильный сеть четвёртый пятый поколение соответствие спецификация комитет стандартизация технология мобильный связь 3gpp . большой объём работа это проект предполагать расширение команда , поэтому искать опытный frontend разработчик react . наш стек typescript 4+ , react 17+ , bootstrap 4 , redux/mobx , postgresql , redis , docker , jenkins , linux ubuntu 20.04 lts , java/spring backend , angular/typescript ряд проект важно уверенный знание javascript , react экосистема , typescript умение работать bootstrap , materialui английский уровень чтение технический документация выше . преимущество опыт работа angular знание docker , websocket , unit testing опыт архитектурный проектирование прикладной система постановка задача разработчик рамка решение большой задача . предлагать официальный трудоустройство тк рф гибридный формат работа екатеринбург 3 день офис , 2 день удалённый дмс испытательный срок инвестиция профессиональный обучение сотрудник оплачивать участие профессиональный конференция , число граница .\n"
     ]
    }
   ],
   "source": [
    "print(df.Combined_text[0])"
   ]
  },
  {
   "cell_type": "code",
   "execution_count": null,
   "id": "3fe3d19b-e20b-46eb-bd99-00152a575a63",
   "metadata": {},
   "outputs": [],
   "source": []
  },
  {
   "cell_type": "markdown",
   "id": "1420b83f-23b1-43f0-b3f1-98b2e39c352d",
   "metadata": {},
   "source": [
    "Видим, что предобработка прошла успешно. Далее необходимо векторизировать токены. Будем использовать метод TF-IDF"
   ]
  },
  {
   "cell_type": "code",
   "execution_count": 53,
   "id": "cc0804f8-4792-425b-9dc3-f033f7273564",
   "metadata": {},
   "outputs": [],
   "source": [
    "# Создание векторизатора TF-IDF\n",
    "tfidf = TfidfVectorizer()\n",
    "\n",
    "# Преобразование текста в признаки TF-IDF\n",
    "tfidf_matrix = tfidf.fit_transform(df['Combined_text'])"
   ]
  },
  {
   "cell_type": "code",
   "execution_count": 54,
   "id": "61fa2950-36c2-4fda-87f8-fd5c48b9e684",
   "metadata": {},
   "outputs": [
    {
     "data": {
      "text/plain": [
       "<146x4759 sparse matrix of type '<class 'numpy.float64'>'\n",
       "\twith 20891 stored elements in Compressed Sparse Row format>"
      ]
     },
     "execution_count": 54,
     "metadata": {},
     "output_type": "execute_result"
    }
   ],
   "source": [
    "tfidf_matrix"
   ]
  },
  {
   "cell_type": "markdown",
   "id": "13978f51-3d58-4e10-b23c-44cb12f423e4",
   "metadata": {},
   "source": [
    "Матрица призаков корпуса готова. Далее имитируем запрос пользователя, применим к нему функцию предобработки текста и векторизируем предобученым трансформером."
   ]
  },
  {
   "cell_type": "code",
   "execution_count": 55,
   "id": "365fa2c8-70ac-4040-a5ee-886eb427bf08",
   "metadata": {},
   "outputs": [],
   "source": [
    "# Пример запроса пользователя\n",
    "user_query = 'Я програмист java, стажер, знаю Python, ООП, REST, Kotlin, DevOps, Git, bitbucket, mysql, хочу работать на удаленке, мотивирован, немного знаю NLP'\n",
    "# user_query = 'Java Spring Framework Kotlin Kafka REST Знание CI/CD'\n",
    "# user_query = 'SMM Junior'\n",
    "\n",
    "# Предобработка запроса\n",
    "preprocessed_query = preprocess_text(user_query)\n",
    "\n",
    "# Векторизация запроса\n",
    "query_vector = tfidf.transform([preprocessed_query])"
   ]
  },
  {
   "cell_type": "markdown",
   "id": "d179f4da-f829-4e4f-977a-bbd13f6cb79a",
   "metadata": {},
   "source": [
    "Далее измерим косинусное растояние между векторами в пространстве."
   ]
  },
  {
   "cell_type": "code",
   "execution_count": 56,
   "id": "aa6b5c77-f43a-42a4-94fe-24e095e1518f",
   "metadata": {},
   "outputs": [],
   "source": [
    "# Вычисляем косинусное сходство между запросом и каждой вакансией и получаем матрицу\n",
    "similarities = cosine_similarity(query_vector, tfidf_matrix)"
   ]
  },
  {
   "cell_type": "code",
   "execution_count": 57,
   "id": "c6419764-41e0-41db-a00a-00f831c7fc54",
   "metadata": {},
   "outputs": [
    {
     "name": "stdout",
     "output_type": "stream",
     "text": [
      "Топ-10 рекомендуемых вакансий:\n",
      "\n",
      "Название: Ведущий программист Java (удалённо)\n",
      "Ссылка: https://hh.ru/vacancy/92430462\n",
      "\n",
      "Название: Android-разработчик (удаленно)\n",
      "Ссылка: https://hh.ru/vacancy/92754465\n",
      "\n",
      "Название: Python разработчик / Ко-фаундер (Удалено)\n",
      "Ссылка: https://hh.ru/vacancy/94320025\n",
      "\n",
      "Название: Программист-разработчик\n",
      "Ссылка: https://hh.ru/vacancy/94123275\n",
      "\n",
      "Название: Стажер-разработчик программного обеспечения\n",
      "Ссылка: https://hh.ru/vacancy/94259442\n",
      "\n",
      "Название: Backend разработчик\n",
      "Ссылка: https://hh.ru/vacancy/93429262\n",
      "\n",
      "Название: Разработчик Android\n",
      "Ссылка: https://hh.ru/vacancy/94098479\n",
      "\n",
      "Название: Web-программист - стажер\n",
      "Ссылка: https://hh.ru/vacancy/93597402\n",
      "\n",
      "Название: Веб разработчик Full Stack, Front / Back\n",
      "Ссылка: https://hh.ru/vacancy/94033474\n",
      "\n",
      "Название: Программист-разработчик (стажер)\n",
      "Ссылка: https://hh.ru/vacancy/94281477\n",
      "\n"
     ]
    }
   ],
   "source": [
    "# Выводим результат топ-N рекомендуемых вакансий\n",
    "print('Топ-10 рекомендуемых вакансий:')\n",
    "print()\n",
    "\n",
    "for index in similarities.argsort()[0][::-1][:10]:\n",
    "    print(f\"Название: {df.iloc[index]['Title']}\")\n",
    "    print(f\"Ссылка: {df.iloc[index]['Link']}\")\n",
    "    print()"
   ]
  },
  {
   "cell_type": "code",
   "execution_count": null,
   "id": "34acbf63-f0fa-451a-b0c4-a0621392e643",
   "metadata": {},
   "outputs": [],
   "source": []
  }
 ],
 "metadata": {
  "kernelspec": {
   "display_name": "Python 3 (ipykernel)",
   "language": "python",
   "name": "python3"
  },
  "language_info": {
   "codemirror_mode": {
    "name": "ipython",
    "version": 3
   },
   "file_extension": ".py",
   "mimetype": "text/x-python",
   "name": "python",
   "nbconvert_exporter": "python",
   "pygments_lexer": "ipython3",
   "version": "3.8.18"
  }
 },
 "nbformat": 4,
 "nbformat_minor": 5
}
